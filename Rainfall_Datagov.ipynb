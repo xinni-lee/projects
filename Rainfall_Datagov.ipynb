{
  "nbformat": 4,
  "nbformat_minor": 0,
  "metadata": {
    "colab": {
      "provenance": [],
      "authorship_tag": "ABX9TyPWlyvH87cuApOR0FgkgMAo",
      "include_colab_link": true
    },
    "kernelspec": {
      "name": "python3",
      "display_name": "Python 3"
    },
    "language_info": {
      "name": "python"
    }
  },
  "cells": [
    {
      "cell_type": "markdown",
      "metadata": {
        "id": "view-in-github",
        "colab_type": "text"
      },
      "source": [
        "<a href=\"https://colab.research.google.com/github/xinni-lee/projects/blob/main/Rainfall_Datagov.ipynb\" target=\"_parent\"><img src=\"https://colab.research.google.com/assets/colab-badge.svg\" alt=\"Open In Colab\"/></a>"
      ]
    },
    {
      "cell_type": "markdown",
      "source": [
        "# Rainfall across Singapore\n",
        "From Data.gov\n",
        "\n",
        "https://data.gov.sg/datasets?formats=API&sort=relevancy&page=1&resultId=d_6580738cdd7db79374ed3152159fbd69#tag/default/GET/rainfall"
      ],
      "metadata": {
        "id": "wF10h6seZvdG"
      }
    },
    {
      "cell_type": "markdown",
      "source": [
        "**Part 1: Extract**\n",
        "\n",
        "> fetch function:\n",
        "\n",
        "Use the following API to populate the fetch function:\n",
        "https://data.gov.sg/datasets?formats=API&sort=relevancy&page=1&resultId=d_6580738cdd7db79374ed3152159fbd69#tag/default/GET/rainfall\n",
        "\n",
        "This API includes all rainfall readings every 5 minutes for that day, along with station information, and some other metadata.\n",
        "The API uses pagination, therefore a single API call would not return all readings for the day. In order to return all readings we need to use the paginationToken in the response, to retrieve subsequent pages of responses. Append the readings from each subsequent response to the original response’s readings key.\n",
        "\n",
        "> store function\n",
        "\n",
        "Populate the store function to save the API response as JSON files in the /data/raw/ folder, with the the following naming scheme for the files: YYYY-MM-DD.json, where YYYY-MM-DD refers to the date of the data.\n",
        "\n",
        "As an example, we be using between 2025-01-10 to 2025-01-15 (both days inclusive; 6 days)."
      ],
      "metadata": {
        "id": "Vwzl1S3uauDj"
      }
    },
    {
      "cell_type": "code",
      "source": [
        "import requests\n",
        "import datetime\n",
        "import os\n",
        "import json"
      ],
      "metadata": {
        "id": "j0R98hLkNNLA"
      },
      "execution_count": 1,
      "outputs": []
    },
    {
      "cell_type": "code",
      "source": [
        "# # Check the API response by date using Python\n",
        "# import requests\n",
        "\n",
        "# url = \"https://api-open.data.gov.sg/v2/real-time/api/rainfall?date=2025-01-10\"\n",
        "# response = requests.get(url)\n",
        "\n",
        "# # Check HTTP status\n",
        "# print(\"Status Code:\", response.status_code)\n",
        "\n",
        "# # Print full JSON response\n",
        "# data = response.json()\n",
        "# print(json.dumps(data, indent=2))\n",
        "\n",
        "# # Check what keys are present\n",
        "# print(\"Keys in API Response:\", data.keys())"
      ],
      "metadata": {
        "id": "7NXpZQNXrAH_"
      },
      "execution_count": 2,
      "outputs": []
    },
    {
      "cell_type": "code",
      "execution_count": 4,
      "metadata": {
        "colab": {
          "base_uri": "https://localhost:8080/"
        },
        "id": "PFah1eycNHfg",
        "outputId": "2a0cb9ba-746b-48b3-e5fd-974119d8c940"
      },
      "outputs": [
        {
          "output_type": "stream",
          "name": "stdout",
          "text": [
            "Retrieving data for 2025-01-10...\n",
            "Requesting page with paginationToken: None\n",
            "Fetched 100 readings. Total so far: 100\n",
            "Next pagination token: b2Zmc2V0PTEwMA==\n",
            "Requesting page with paginationToken: b2Zmc2V0PTEwMA==\n",
            "Fetched 100 readings. Total so far: 200\n",
            "Next pagination token: b2Zmc2V0PTIwMA==\n",
            "Requesting page with paginationToken: b2Zmc2V0PTIwMA==\n",
            "Fetched 88 readings. Total so far: 288\n",
            "No more pages, exiting loop.\n",
            "Data for 2025-01-10 saved to data/raw/2025-01-10.json\n",
            "Retrieving data for 2025-01-11...\n",
            "Requesting page with paginationToken: None\n",
            "Fetched 100 readings. Total so far: 100\n",
            "Next pagination token: b2Zmc2V0PTEwMA==\n",
            "Requesting page with paginationToken: b2Zmc2V0PTEwMA==\n",
            "Fetched 100 readings. Total so far: 200\n",
            "Next pagination token: b2Zmc2V0PTIwMA==\n",
            "Requesting page with paginationToken: b2Zmc2V0PTIwMA==\n",
            "Fetched 88 readings. Total so far: 288\n",
            "No more pages, exiting loop.\n",
            "Data for 2025-01-11 saved to data/raw/2025-01-11.json\n",
            "Retrieving data for 2025-01-12...\n",
            "Requesting page with paginationToken: None\n",
            "Fetched 100 readings. Total so far: 100\n",
            "Next pagination token: b2Zmc2V0PTEwMA==\n",
            "Requesting page with paginationToken: b2Zmc2V0PTEwMA==\n",
            "Fetched 100 readings. Total so far: 200\n",
            "Next pagination token: b2Zmc2V0PTIwMA==\n",
            "Requesting page with paginationToken: b2Zmc2V0PTIwMA==\n",
            "Fetched 88 readings. Total so far: 288\n",
            "No more pages, exiting loop.\n",
            "Data for 2025-01-12 saved to data/raw/2025-01-12.json\n",
            "Retrieving data for 2025-01-13...\n",
            "Requesting page with paginationToken: None\n",
            "Fetched 100 readings. Total so far: 100\n",
            "Next pagination token: b2Zmc2V0PTEwMA==\n",
            "Requesting page with paginationToken: b2Zmc2V0PTEwMA==\n",
            "Fetched 100 readings. Total so far: 200\n",
            "Next pagination token: b2Zmc2V0PTIwMA==\n",
            "Requesting page with paginationToken: b2Zmc2V0PTIwMA==\n",
            "Fetched 88 readings. Total so far: 288\n",
            "No more pages, exiting loop.\n",
            "Data for 2025-01-13 saved to data/raw/2025-01-13.json\n",
            "Retrieving data for 2025-01-14...\n",
            "Requesting page with paginationToken: None\n",
            "Fetched 100 readings. Total so far: 100\n",
            "Next pagination token: b2Zmc2V0PTEwMA==\n",
            "Requesting page with paginationToken: b2Zmc2V0PTEwMA==\n",
            "Fetched 100 readings. Total so far: 200\n",
            "Next pagination token: b2Zmc2V0PTIwMA==\n",
            "Requesting page with paginationToken: b2Zmc2V0PTIwMA==\n",
            "Fetched 88 readings. Total so far: 288\n",
            "No more pages, exiting loop.\n",
            "Data for 2025-01-14 saved to data/raw/2025-01-14.json\n",
            "Retrieving data for 2025-01-15...\n",
            "Requesting page with paginationToken: None\n",
            "Fetched 100 readings. Total so far: 100\n",
            "Next pagination token: b2Zmc2V0PTEwMA==\n",
            "Requesting page with paginationToken: b2Zmc2V0PTEwMA==\n",
            "Fetched 100 readings. Total so far: 200\n",
            "Next pagination token: b2Zmc2V0PTIwMA==\n",
            "Requesting page with paginationToken: b2Zmc2V0PTIwMA==\n",
            "Fetched 88 readings. Total so far: 288\n",
            "No more pages, exiting loop.\n",
            "Data for 2025-01-15 saved to data/raw/2025-01-15.json\n"
          ]
        }
      ],
      "source": [
        "def fetch(date: datetime.date) -> dict:\n",
        "    url = f\"https://api-open.data.gov.sg/v2/real-time/api/rainfall?date={date.isoformat()}\"\n",
        "    # params = {'date': date_time.isoformat()}\n",
        "    full_response = {\"readings\": []}\n",
        "    pagination_token = None\n",
        "\n",
        "    while True:\n",
        "        params = {}\n",
        "        if pagination_token:\n",
        "            params[\"paginationToken\"] = pagination_token\n",
        "\n",
        "        print(f\"Requesting page with paginationToken: {pagination_token}\")\n",
        "\n",
        "        response = requests.get(url, params=params)\n",
        "\n",
        "        if response.status_code != 200:\n",
        "            print(f\"Error fetching data: {response.status_code}\")\n",
        "            print(response.text)\n",
        "            return {}\n",
        "\n",
        "        data = response.json()\n",
        "        readings = data.get(\"data\", {}).get(\"readings\", [])\n",
        "        full_response[\"readings\"].extend(readings)\n",
        "\n",
        "        print(f\"Fetched {len(readings)} readings. Total so far: {len(full_response['readings'])}\")\n",
        "\n",
        "        pagination_token = data.get(\"data\", {}).get(\"paginationToken\")\n",
        "\n",
        "        if pagination_token:\n",
        "            print(f\"Next pagination token: {pagination_token}\")\n",
        "        else:\n",
        "            print(\"No more pages, exiting loop.\")\n",
        "            break\n",
        "\n",
        "    # Check if metadata (stations) is available in the response\n",
        "    if \"stations\" in data.get(\"data\", {}):\n",
        "        stations_metadata = {stations[\"id\"]: {\"name\": stations[\"name\"], \"location\": stations[\"location\"]}\n",
        "                             for stations in data[\"data\"][\"stations\"]}\n",
        "\n",
        "        # Merge metadata with readings without overwriting the station_location\n",
        "        for reading in full_response[\"readings\"]:\n",
        "            if 'data' in reading:\n",
        "                for station_reading in reading['data']:\n",
        "                    station_id = station_reading.get('stationId')\n",
        "                    if station_id in stations_metadata:\n",
        "                        station_name = stations_metadata[station_id][\"name\"]\n",
        "                        station_location = stations_metadata[station_id][\"location\"]\n",
        "                        # Make sure the location is valid and doesn't have nested keys\n",
        "                        if isinstance(station_location, dict) and \"latitude\" in station_location and \"longitude\" in station_location:\n",
        "                            # Only merge station name and location if they're valid\n",
        "                            station_reading[\"station_name\"] = station_name\n",
        "                            station_reading[\"station_location\"] = station_location\n",
        "                        else:\n",
        "                            print(f\"Invalid location data for station {station_id}: {station_location}\")\n",
        "\n",
        "    return full_response\n",
        "\n",
        "def store(date: datetime.date, data: dict) -> None:\n",
        "    os.makedirs(\"data/raw\", exist_ok=True)\n",
        "    file_name = f\"{date.isoformat()}.json\"\n",
        "    file_path = os.path.join(\"data/raw\", file_name)\n",
        "\n",
        "    with open(file_path, \"w\", encoding=\"utf-8\") as file:\n",
        "        json.dump(data, file, indent=4)\n",
        "\n",
        "    print(f\"Data for {date} saved to {file_path}\")\n",
        "\n",
        "if __name__ == \"__main__\":\n",
        "    \"\"\"\n",
        "    Do not edit the code below\n",
        "    \"\"\"\n",
        "    os.makedirs(\"data/raw\", exist_ok=True)\n",
        "    start_date = datetime.date(2025, 1, 10)\n",
        "    end_date = datetime.date(2025, 1, 16)\n",
        "\n",
        "    dates = [start_date + datetime.timedelta(days=i) for i in range((end_date-start_date).days)]\n",
        "\n",
        "    for date in dates:\n",
        "        print(f\"Retrieving data for {date}...\")\n",
        "        response = fetch(date=date)\n",
        "        store(date=date, data=response)"
      ]
    },
    {
      "cell_type": "markdown",
      "source": [
        "**Part 2: Transform**\n",
        "\n",
        "We will now process the raw JSON files in the data/raw/ folder.\n",
        "\n",
        "> transform_stations function\n",
        "\n",
        "•\tRead all the responses in the data/raw/ folder.\n",
        "\n",
        "•\tConstruct a stations table by extracting unique station information.\n",
        "\n",
        "•\tStore each station as a separate JSON file in the data/processed/stations/ folder, using the naming scheme: {stationId}.json.\n",
        "\n",
        "\n",
        "> transform_readings function:\n",
        "\n",
        "•\tRead all responses in the data/raw/ folder.\n",
        "\n",
        "•\tConstruct a readings table.\n",
        "\n",
        "•\tStore each daily reading as a separate JSON file in the data/processed/readings/ folder, using the following naming scheme: data/processed/readings/{YYYY-MM-DD}.json.\n",
        "\n",
        "•\tEach file should contain an array of readings for all stations for a single day.\n"
      ],
      "metadata": {
        "id": "dG7bZwCddWzT"
      }
    },
    {
      "cell_type": "code",
      "source": [
        "start_date = datetime.date(2025, 1, 10)\n",
        "end_date = datetime.date(2025, 1, 16)\n",
        "\n",
        "def transform_readings() -> None:\n",
        "    raw_data_folder = \"data/raw\"\n",
        "    processed_readings_folder = \"data/processed/readings\"\n",
        "    os.makedirs(processed_readings_folder, exist_ok=True)\n",
        "\n",
        "    dates = [start_date + datetime.timedelta(days=i) for i in range((end_date - start_date).days)]\n",
        "\n",
        "    for date in dates:\n",
        "        raw_file_path = os.path.join(raw_data_folder, f\"{date.isoformat()}.json\")\n",
        "\n",
        "        if not os.path.exists(raw_file_path):\n",
        "          print(f\"Raw data file for {date.isoformat()} not found.\")\n",
        "          continue\n",
        "\n",
        "        with open(raw_file_path, \"r\", encoding=\"utf-8\") as raw_file:\n",
        "          raw_data = json.load(raw_file)\n",
        "        print(f\"Processing {date.isoformat()} - Keys in raw data:\", raw_data.keys())\n",
        "\n",
        "        processed_readings = []\n",
        "\n",
        "        if 'readings' in raw_data:\n",
        "            for reading in raw_data['readings']:  # Loop over each timestamp entry\n",
        "                timestamp = reading.get(\"timestamp\")\n",
        "\n",
        "                if 'data' not in reading:\n",
        "                    print(f\"No 'data' key in item for {timestamp}\")\n",
        "                    continue\n",
        "\n",
        "                # Extract only stationId and value\n",
        "                station_readings = [\n",
        "                    {\"stationId\": entry[\"stationId\"], \"value\": entry[\"value\"]}\n",
        "                    for entry in reading['data']\n",
        "                    if \"stationId\" in entry and \"value\" in entry\n",
        "                ]\n",
        "\n",
        "                # Append timestamp and station readings\n",
        "                processed_readings.append({\n",
        "                    \"timestamp\": timestamp,\n",
        "                    \"data\": station_readings\n",
        "                })\n",
        "\n",
        "        if not processed_readings:\n",
        "            print(f\"No valid readings found for {date.isoformat()}\")\n",
        "\n",
        "        processed_readings_path = os.path.join(processed_readings_folder, f\"{date.isoformat()}.json\")\n",
        "        with open(processed_readings_path, \"w\", encoding=\"utf-8\") as processed_file:\n",
        "            json.dump(processed_readings, processed_file, indent=4)\n",
        "\n",
        "        print(f\"Processed data saved for {date.isoformat()} to {processed_readings_path}\")\n",
        "\n",
        "    return None\n",
        "\n",
        "def transform_stations() -> None:\n",
        "    raw_data_folder = \"data/raw\"\n",
        "    processed_stations_folder = \"data/processed/stations\"\n",
        "    os.makedirs(processed_stations_folder, exist_ok=True)\n",
        "\n",
        "    stations_metadata = {}\n",
        "\n",
        "    dates = [start_date + datetime.timedelta(days=i) for i in range((end_date - start_date).days)]\n",
        "\n",
        "    for date in dates:\n",
        "        raw_file_path = os.path.join(raw_data_folder, f\"{date.isoformat()}.json\")\n",
        "\n",
        "        if not os.path.exists(raw_file_path):\n",
        "            print(f\"Raw data file for {date.isoformat()} not found.\")\n",
        "            continue\n",
        "\n",
        "        with open(raw_file_path, \"r\", encoding=\"utf-8\") as raw_file:\n",
        "            raw_data = json.load(raw_file)\n",
        "\n",
        "        print(f\"Processing stations for {date.isoformat()} - Keys in raw data:\", raw_data.keys())\n",
        "\n",
        "        if 'readings' in raw_data:\n",
        "            for reading in raw_data['readings']:  # Loop over each timestamp entry\n",
        "                for station_reading in reading.get('data', []):\n",
        "                    station_id = station_reading.get('stationId')\n",
        "                    station_name = station_reading.get('station_name')\n",
        "                    station_location = station_reading.get('station_location')\n",
        "\n",
        "                    if station_id and station_name and station_location:\n",
        "                        if station_id not in stations_metadata:\n",
        "                            stations_metadata[station_id] = {\n",
        "                                \"station_id\": station_id,\n",
        "                                \"name\": station_name,\n",
        "                                \"location\": station_location\n",
        "                            }\n",
        "\n",
        "    # Save the stations' data to individual JSON files\n",
        "    for station_id, station_info in stations_metadata.items():\n",
        "        station_file_path = os.path.join(processed_stations_folder, f\"{station_id}.json\")\n",
        "\n",
        "        with open(station_file_path, \"w\", encoding=\"utf-8\") as station_file:\n",
        "            json.dump(station_info, station_file, indent=4)\n",
        "\n",
        "        print(f\"Processed station saved for {station_id} to {station_file_path}\")\n",
        "\n",
        "    return None\n",
        "\n",
        "if __name__ == \"__main__\":\n",
        "    \"\"\"\n",
        "    Do not edit the code below\n",
        "    \"\"\"\n",
        "    os.makedirs(\"data/processed/stations\", exist_ok=True)\n",
        "    os.makedirs(\"data/processed/readings\", exist_ok=True)\n",
        "    transform_stations()\n",
        "    transform_readings()"
      ],
      "metadata": {
        "colab": {
          "base_uri": "https://localhost:8080/"
        },
        "id": "1AJrL_pINx2w",
        "outputId": "422c5920-a97f-4ef5-fe4b-ddc005c17994"
      },
      "execution_count": 5,
      "outputs": [
        {
          "output_type": "stream",
          "name": "stdout",
          "text": [
            "Processing stations for 2025-01-10 - Keys in raw data: dict_keys(['readings'])\n",
            "Processing stations for 2025-01-11 - Keys in raw data: dict_keys(['readings'])\n",
            "Processing stations for 2025-01-12 - Keys in raw data: dict_keys(['readings'])\n",
            "Processing stations for 2025-01-13 - Keys in raw data: dict_keys(['readings'])\n",
            "Processing stations for 2025-01-14 - Keys in raw data: dict_keys(['readings'])\n",
            "Processing stations for 2025-01-15 - Keys in raw data: dict_keys(['readings'])\n",
            "Processed station saved for S218 to data/processed/stations/S218.json\n",
            "Processed station saved for S219 to data/processed/stations/S219.json\n",
            "Processed station saved for S216 to data/processed/stations/S216.json\n",
            "Processed station saved for S217 to data/processed/stations/S217.json\n",
            "Processed station saved for S214 to data/processed/stations/S214.json\n",
            "Processed station saved for S215 to data/processed/stations/S215.json\n",
            "Processed station saved for S213 to data/processed/stations/S213.json\n",
            "Processed station saved for S81 to data/processed/stations/S81.json\n",
            "Processed station saved for S40 to data/processed/stations/S40.json\n",
            "Processed station saved for S84 to data/processed/stations/S84.json\n",
            "Processed station saved for S44 to data/processed/stations/S44.json\n",
            "Processed station saved for S88 to data/processed/stations/S88.json\n",
            "Processed station saved for S43 to data/processed/stations/S43.json\n",
            "Processed station saved for S89 to data/processed/stations/S89.json\n",
            "Processed station saved for S06 to data/processed/stations/S06.json\n",
            "Processed station saved for S221 to data/processed/stations/S221.json\n",
            "Processed station saved for S222 to data/processed/stations/S222.json\n",
            "Processed station saved for S08 to data/processed/stations/S08.json\n",
            "Processed station saved for S07 to data/processed/stations/S07.json\n",
            "Processed station saved for S220 to data/processed/stations/S220.json\n",
            "Processed station saved for S207 to data/processed/stations/S207.json\n",
            "Processed station saved for S208 to data/processed/stations/S208.json\n",
            "Processed station saved for S203 to data/processed/stations/S203.json\n",
            "Processed station saved for S201 to data/processed/stations/S201.json\n",
            "Processed station saved for S90 to data/processed/stations/S90.json\n",
            "Processed station saved for S92 to data/processed/stations/S92.json\n",
            "Processed station saved for S209 to data/processed/stations/S209.json\n",
            "Processed station saved for S50 to data/processed/stations/S50.json\n",
            "Processed station saved for S94 to data/processed/stations/S94.json\n",
            "Processed station saved for S210 to data/processed/stations/S210.json\n",
            "Processed station saved for S211 to data/processed/stations/S211.json\n",
            "Processed station saved for S119 to data/processed/stations/S119.json\n",
            "Processed station saved for S117 to data/processed/stations/S117.json\n",
            "Processed station saved for S115 to data/processed/stations/S115.json\n",
            "Processed station saved for S116 to data/processed/stations/S116.json\n",
            "Processed station saved for S113 to data/processed/stations/S113.json\n",
            "Processed station saved for S60 to data/processed/stations/S60.json\n",
            "Processed station saved for S64 to data/processed/stations/S64.json\n",
            "Processed station saved for S66 to data/processed/stations/S66.json\n",
            "Processed station saved for S24 to data/processed/stations/S24.json\n",
            "Processed station saved for S69 to data/processed/stations/S69.json\n",
            "Processed station saved for S123 to data/processed/stations/S123.json\n",
            "Processed station saved for S29 to data/processed/stations/S29.json\n",
            "Processed station saved for S121 to data/processed/stations/S121.json\n",
            "Processed station saved for S229 to data/processed/stations/S229.json\n",
            "Processed station saved for S900 to data/processed/stations/S900.json\n",
            "Processed station saved for S109 to data/processed/stations/S109.json\n",
            "Processed station saved for S106 to data/processed/stations/S106.json\n",
            "Processed station saved for S227 to data/processed/stations/S227.json\n",
            "Processed station saved for S107 to data/processed/stations/S107.json\n",
            "Processed station saved for S228 to data/processed/stations/S228.json\n",
            "Processed station saved for S104 to data/processed/stations/S104.json\n",
            "Processed station saved for S226 to data/processed/stations/S226.json\n",
            "Processed station saved for S223 to data/processed/stations/S223.json\n",
            "Processed station saved for S224 to data/processed/stations/S224.json\n",
            "Processed station saved for S71 to data/processed/stations/S71.json\n",
            "Processed station saved for S33 to data/processed/stations/S33.json\n",
            "Processed station saved for S77 to data/processed/stations/S77.json\n",
            "Processed station saved for S79 to data/processed/stations/S79.json\n",
            "Processed station saved for S111 to data/processed/stations/S111.json\n",
            "Processed station saved for S112 to data/processed/stations/S112.json\n",
            "Processed station saved for S230 to data/processed/stations/S230.json\n",
            "Processed station saved for S35 to data/processed/stations/S35.json\n",
            "Processing 2025-01-10 - Keys in raw data: dict_keys(['readings'])\n",
            "Processed data saved for 2025-01-10 to data/processed/readings/2025-01-10.json\n",
            "Processing 2025-01-11 - Keys in raw data: dict_keys(['readings'])\n",
            "Processed data saved for 2025-01-11 to data/processed/readings/2025-01-11.json\n",
            "Processing 2025-01-12 - Keys in raw data: dict_keys(['readings'])\n",
            "Processed data saved for 2025-01-12 to data/processed/readings/2025-01-12.json\n",
            "Processing 2025-01-13 - Keys in raw data: dict_keys(['readings'])\n",
            "Processed data saved for 2025-01-13 to data/processed/readings/2025-01-13.json\n",
            "Processing 2025-01-14 - Keys in raw data: dict_keys(['readings'])\n",
            "Processed data saved for 2025-01-14 to data/processed/readings/2025-01-14.json\n",
            "Processing 2025-01-15 - Keys in raw data: dict_keys(['readings'])\n",
            "Processed data saved for 2025-01-15 to data/processed/readings/2025-01-15.json\n"
          ]
        }
      ]
    },
    {
      "cell_type": "markdown",
      "source": [
        "**Part 3: Queries** (sqls/*.sql)\n",
        "\n",
        "Use DuckDB to query the processed JSON files. We should use the stations table to retrieve station information.\n",
        "Write your SQL queries in separate .sql files in the sqls/ folder (e.g., q1.sql, q2.sql, q3.sql)."
      ],
      "metadata": {
        "id": "nMdmRq8V_7hk"
      }
    },
    {
      "cell_type": "code",
      "source": [
        "pip install duckdb"
      ],
      "metadata": {
        "colab": {
          "base_uri": "https://localhost:8080/"
        },
        "id": "jlDSlCrWT9PF",
        "outputId": "cb964a77-7121-4465-e691-94545dc76382"
      },
      "execution_count": 6,
      "outputs": [
        {
          "output_type": "stream",
          "name": "stdout",
          "text": [
            "Requirement already satisfied: duckdb in /usr/local/lib/python3.11/dist-packages (1.1.3)\n"
          ]
        }
      ]
    },
    {
      "cell_type": "code",
      "source": [
        "import duckdb\n",
        "import datetime\n",
        "import os\n",
        "import json"
      ],
      "metadata": {
        "id": "WsyMUWlCUD7_"
      },
      "execution_count": 7,
      "outputs": []
    },
    {
      "cell_type": "markdown",
      "source": [
        "Create sql directory"
      ],
      "metadata": {
        "id": "wsnHDAm1AAcw"
      }
    },
    {
      "cell_type": "code",
      "source": [
        "# Create the sqls directory\n",
        "os.makedirs(\"sqls\", exist_ok=True)\n",
        "\n",
        "# Create sample SQL query files\n",
        "queries = {\n",
        "    \"q1.sql\": \"SELECT COUNT(*) FROM readings;\",\n",
        "    \"q2.sql\": \"SELECT COUNT(*) FROM stations;\",\n",
        "    \"q3.sql\": \"SELECT COUNT(*) FROM readings;\",\n",
        "    \"q4.sql\": \"SELECT COUNT(*) FROM stations;\"\n",
        "}\n",
        "\n",
        "for file_name, query in queries.items():\n",
        "    with open(f\"sqls/{file_name}\", \"w\") as f:\n",
        "        f.write(query)\n",
        "\n",
        "print(\"SQL files created in 'sqls/' directory.\")"
      ],
      "metadata": {
        "colab": {
          "base_uri": "https://localhost:8080/"
        },
        "id": "SWpAlTJxVDaF",
        "outputId": "89ff16b0-7772-4b19-a707-d2b83f801aba"
      },
      "execution_count": 8,
      "outputs": [
        {
          "output_type": "stream",
          "name": "stdout",
          "text": [
            "SQL files created in 'sqls/' directory.\n"
          ]
        }
      ]
    },
    {
      "cell_type": "markdown",
      "source": [
        "Create tables"
      ],
      "metadata": {
        "id": "Sgao7BttAD2r"
      }
    },
    {
      "cell_type": "code",
      "source": [
        "# Load readings JSON into DuckDB\n",
        "duckdb.sql(\"\"\"\n",
        "    CREATE TABLE readings AS\n",
        "    SELECT * FROM read_json_auto('data/processed/readings/*.json', union_by_name=True);\n",
        "\"\"\")\n",
        "\n",
        "# Load stations JSON into DuckDB\n",
        "duckdb.sql(\"\"\"\n",
        "    CREATE TABLE stations AS\n",
        "    SELECT * FROM read_json_auto('data/processed/stations/*.json', union_by_name=True);\n",
        "\"\"\")\n",
        "\n",
        "print(\"Tables successfully created!\")"
      ],
      "metadata": {
        "colab": {
          "base_uri": "https://localhost:8080/"
        },
        "id": "VHwLtequX5va",
        "outputId": "2d6c2fc7-6b86-40d2-b0d4-f01ecc411fa2"
      },
      "execution_count": 9,
      "outputs": [
        {
          "output_type": "stream",
          "name": "stdout",
          "text": [
            "Tables successfully created!\n"
          ]
        }
      ]
    },
    {
      "cell_type": "code",
      "source": [
        "# Check if the tables exist:\n",
        "duckdb.sql(\"SHOW TABLES\").show()"
      ],
      "metadata": {
        "colab": {
          "base_uri": "https://localhost:8080/"
        },
        "id": "vKnMPfxVX_0c",
        "outputId": "b41eebcc-a3f1-4805-9e23-690152804cb3"
      },
      "execution_count": 10,
      "outputs": [
        {
          "output_type": "stream",
          "name": "stdout",
          "text": [
            "┌──────────┐\n",
            "│   name   │\n",
            "│ varchar  │\n",
            "├──────────┤\n",
            "│ readings │\n",
            "│ stations │\n",
            "└──────────┘\n",
            "\n"
          ]
        }
      ]
    },
    {
      "cell_type": "code",
      "source": [
        "# Check if the tables contain data:\n",
        "duckdb.sql(\"SELECT * FROM readings LIMIT 5\").show()\n",
        "duckdb.sql(\"SELECT * FROM stations LIMIT 5\").show()"
      ],
      "metadata": {
        "id": "3n2kYNSHYEhB",
        "outputId": "fb5130b5-f2f5-41ba-cd1a-177e24df98d1",
        "colab": {
          "base_uri": "https://localhost:8080/"
        }
      },
      "execution_count": 11,
      "outputs": [
        {
          "output_type": "stream",
          "name": "stdout",
          "text": [
            "┌───────────────────────────┬──────────────────────────────────────────────────────────────────────────────────────────────────────────────────────────────────────────────────────────────────────────────────────────────────────────────────────────────────────────────────────────────────────────────────────────────────────────────────────────────────────────────────────────────────────────────────────────────────────────────────────────────────────────────────────────────────────────────────────────────────────────────────────────────────────────────────────────────────────────────────────────────────────────────────────────────────────────────────────────────────────────────────────────────────────────────────────────────────────────────────────────────────────────────────────────────────────────────────────────────────────────────────────────────────────────────────────────────────────────────────────────────────────────────────────────────────────────────────────────────────────────────────────────────────────────────────────────────────────────────────────────────────────────────────────────────────────────────────────────────────────────────────────────────────────────────────────────────────────────────────────────────────────────────────────────────────────────────────────────────────────────────────────────────────────────────────────────────────────────────────────────────────────────────────────────────────────────────────────────────────────────────────────────────────────────────────────────────────────────────────────────────────────────────────────────────────────────────────────────────────────────────────────────────────────────────────────────────────────────────────────────────────────────────────────────────────────────────────────────────────────────────────────────────────────────────────────────────────────────────────────────────────────────────────────────────────────────────────────────────────────────────────────────────────────────────────────────────────────────────────────────────────────────────────────────────────────────────────────────────────────────────────────────────────────────────────────────────────────────────────────────────────────┐\n",
            "│         timestamp         │                                                                                                                                                                                                                                                                                                                                                                                                                                                                                                                                                                                                                                                                                                                                                                                                                                                                                                                                                                                                                                                                                                                                 data                                                                                                                                                                                                                                                                                                                                                                                                                                                                                                                                                                                                                                                                                                                                                                                                                                                                                                                                                                                                                                                                                                                                 │\n",
            "│          varchar          │                                                                                                                                                                                                                                                                                                                                                                                                                                                                                                                                                                                                                                                                                                                                                                                                                                                                                                                                                                                                                                                                                                             struct(stationid varchar, \"value\" double)[]                                                                                                                                                                                                                                                                                                                                                                                                                                                                                                                                                                                                                                                                                                                                                                                                                                                                                                                                                                                                                                                                                                              │\n",
            "├───────────────────────────┼──────────────────────────────────────────────────────────────────────────────────────────────────────────────────────────────────────────────────────────────────────────────────────────────────────────────────────────────────────────────────────────────────────────────────────────────────────────────────────────────────────────────────────────────────────────────────────────────────────────────────────────────────────────────────────────────────────────────────────────────────────────────────────────────────────────────────────────────────────────────────────────────────────────────────────────────────────────────────────────────────────────────────────────────────────────────────────────────────────────────────────────────────────────────────────────────────────────────────────────────────────────────────────────────────────────────────────────────────────────────────────────────────────────────────────────────────────────────────────────────────────────────────────────────────────────────────────────────────────────────────────────────────────────────────────────────────────────────────────────────────────────────────────────────────────────────────────────────────────────────────────────────────────────────────────────────────────────────────────────────────────────────────────────────────────────────────────────────────────────────────────────────────────────────────────────────────────────────────────────────────────────────────────────────────────────────────────────────────────────────────────────────────────────────────────────────────────────────────────────────────────────────────────────────────────────────────────────────────────────────────────────────────────────────────────────────────────────────────────────────────────────────────────────────────────────────────────────────────────────────────────────────────────────────────────────────────────────────────────────────────────────────────────────────────────────────────────────────────────────────────────────────────────────────────────────────────────────────────────────────────────────────────────────────────────────────────────────────────────────────────────────────────────┤\n",
            "│ 2025-01-10T23:55:00+08:00 │ [{'stationId': S218, 'value': 0.204}, {'stationId': S219, 'value': 0.402}, {'stationId': S216, 'value': 0.204}, {'stationId': S217, 'value': 0.197}, {'stationId': S214, 'value': 0.394}, {'stationId': S215, 'value': 0.203}, {'stationId': S213, 'value': 0.4}, {'stationId': S81, 'value': 0.4}, {'stationId': S40, 'value': 0.2}, {'stationId': S84, 'value': 0.2}, {'stationId': S44, 'value': 0.0}, {'stationId': S88, 'value': 0.2}, {'stationId': S43, 'value': 0.4}, {'stationId': S89, 'value': 0.2}, {'stationId': S06, 'value': 0.4}, {'stationId': S221, 'value': 0.198}, {'stationId': S222, 'value': 0.201}, {'stationId': S08, 'value': 0.2}, {'stationId': S07, 'value': 0.2}, {'stationId': S220, 'value': 0.406}, {'stationId': S207, 'value': 0.201}, {'stationId': S208, 'value': 0.0}, {'stationId': S203, 'value': 0.201}, {'stationId': S201, 'value': 0.2}, {'stationId': S90, 'value': 0.2}, {'stationId': S92, 'value': 0.2}, {'stationId': S209, 'value': 0.404}, {'stationId': S50, 'value': 0.2}, {'stationId': S94, 'value': 0.0}, {'stationId': S210, 'value': 0.201}, {'stationId': S211, 'value': 0.203}, {'stationId': S119, 'value': 0.2}, {'stationId': S117, 'value': 0.4}, {'stationId': S115, 'value': 0.4}, {'stationId': S116, 'value': 0.2}, {'stationId': S113, 'value': 0.4}, {'stationId': S60, 'value': 0.2}, {'stationId': S64, 'value': 0.2}, {'stationId': S66, 'value': 0.2}, {'stationId': S24, 'value': 0.0}, {'stationId': S69, 'value': 0.4}, {'stationId': S123, 'value': 0.4}, {'stationId': S29, 'value': 0.4}, {'stationId': S121, 'value': 0.2}, {'stationId': S229, 'value': 0.0}, {'stationId': S900, 'value': 0.4}, {'stationId': S109, 'value': 0.4}, {'stationId': S106, 'value': 0.2}, {'stationId': S227, 'value': 0.202}, {'stationId': S107, 'value': 0.2}, {'stationId': S228, 'value': 0.198}, {'stationId': S104, 'value': 0.4}, {'stationId': S226, 'value': 0.4}, {'stationId': S223, 'value': 0.203}, {'stationId': S224, 'value': 0.0}, {'stationId': S71, 'value': 0.2}, {'stationId': S33, 'value': 0.2}, {'stationId': S77, 'value': 0.2}, {'stationId': S79, 'value': 0.4}, {'stationId': S111, 'value': 0.2}, {'stationId': S112, 'value': 0.2}, {'stationId': S230, 'value': 0.2}] │\n",
            "│ 2025-01-10T23:50:00+08:00 │ [{'stationId': S218, 'value': 0.0}, {'stationId': S219, 'value': 0.603}, {'stationId': S216, 'value': 0.408}, {'stationId': S217, 'value': 0.394}, {'stationId': S214, 'value': 0.197}, {'stationId': S215, 'value': 0.203}, {'stationId': S213, 'value': 0.0}, {'stationId': S81, 'value': 0.4}, {'stationId': S40, 'value': 0.2}, {'stationId': S84, 'value': 0.2}, {'stationId': S44, 'value': 0.2}, {'stationId': S88, 'value': 0.2}, {'stationId': S43, 'value': 0.2}, {'stationId': S89, 'value': 0.2}, {'stationId': S06, 'value': 0.2}, {'stationId': S221, 'value': 0.594}, {'stationId': S222, 'value': 0.402}, {'stationId': S08, 'value': 0.4}, {'stationId': S07, 'value': 0.4}, {'stationId': S220, 'value': 0.406}, {'stationId': S207, 'value': 0.201}, {'stationId': S208, 'value': 0.0}, {'stationId': S203, 'value': 0.201}, {'stationId': S201, 'value': 0.0}, {'stationId': S90, 'value': 0.2}, {'stationId': S92, 'value': 0.2}, {'stationId': S209, 'value': 0.202}, {'stationId': S50, 'value': 0.0}, {'stationId': S94, 'value': 0.4}, {'stationId': S210, 'value': 0.201}, {'stationId': S211, 'value': 0.203}, {'stationId': S119, 'value': 0.4}, {'stationId': S117, 'value': 0.4}, {'stationId': S115, 'value': 0.8}, {'stationId': S116, 'value': 0.2}, {'stationId': S113, 'value': 0.2}, {'stationId': S60, 'value': 0.4}, {'stationId': S64, 'value': 0.2}, {'stationId': S66, 'value': 0.2}, {'stationId': S24, 'value': 0.2}, {'stationId': S69, 'value': 0.2}, {'stationId': S123, 'value': 0.4}, {'stationId': S29, 'value': 0.2}, {'stationId': S121, 'value': 0.2}, {'stationId': S229, 'value': 0.203}, {'stationId': S900, 'value': 0.2}, {'stationId': S109, 'value': 0.4}, {'stationId': S106, 'value': 0.4}, {'stationId': S227, 'value': 0.606}, {'stationId': S107, 'value': 0.4}, {'stationId': S228, 'value': 0.0}, {'stationId': S104, 'value': 0.2}, {'stationId': S226, 'value': 0.2}, {'stationId': S223, 'value': 0.203}, {'stationId': S224, 'value': 0.0}, {'stationId': S71, 'value': 0.2}, {'stationId': S33, 'value': 0.2}, {'stationId': S77, 'value': 0.2}, {'stationId': S79, 'value': 0.2}, {'stationId': S111, 'value': 0.2}, {'stationId': S112, 'value': 0.0}, {'stationId': S230, 'value': 0.0}]   │\n",
            "│ 2025-01-10T23:45:00+08:00 │ [{'stationId': S218, 'value': 0.204}, {'stationId': S219, 'value': 0.402}, {'stationId': S216, 'value': 0.408}, {'stationId': S217, 'value': 0.197}, {'stationId': S214, 'value': 0.197}, {'stationId': S215, 'value': 0.203}, {'stationId': S213, 'value': 0.2}, {'stationId': S81, 'value': 0.4}, {'stationId': S40, 'value': 0.2}, {'stationId': S84, 'value': 0.4}, {'stationId': S44, 'value': 0.2}, {'stationId': S88, 'value': 0.4}, {'stationId': S43, 'value': 0.2}, {'stationId': S89, 'value': 0.4}, {'stationId': S06, 'value': 0.4}, {'stationId': S221, 'value': 0.198}, {'stationId': S222, 'value': 0.201}, {'stationId': S08, 'value': 0.2}, {'stationId': S07, 'value': 0.2}, {'stationId': S220, 'value': 0.203}, {'stationId': S207, 'value': 0.402}, {'stationId': S208, 'value': 0.408}, {'stationId': S203, 'value': 0.201}, {'stationId': S201, 'value': 0.2}, {'stationId': S90, 'value': 0.4}, {'stationId': S92, 'value': 0.2}, {'stationId': S209, 'value': 0.404}, {'stationId': S50, 'value': 0.2}, {'stationId': S94, 'value': 0.2}, {'stationId': S210, 'value': 0.201}, {'stationId': S211, 'value': 0.0}, {'stationId': S119, 'value': 0.2}, {'stationId': S117, 'value': 0.6}, {'stationId': S115, 'value': 0.6}, {'stationId': S116, 'value': 0.2}, {'stationId': S113, 'value': 0.4}, {'stationId': S60, 'value': 0.2}, {'stationId': S64, 'value': 0.0}, {'stationId': S66, 'value': 0.0}, {'stationId': S24, 'value': 0.2}, {'stationId': S69, 'value': 0.2}, {'stationId': S123, 'value': 0.2}, {'stationId': S29, 'value': 0.4}, {'stationId': S121, 'value': 0.0}, {'stationId': S229, 'value': 0.0}, {'stationId': S900, 'value': 0.6}, {'stationId': S109, 'value': 0.2}, {'stationId': S106, 'value': 0.2}, {'stationId': S227, 'value': 0.202}, {'stationId': S107, 'value': 0.4}, {'stationId': S228, 'value': 0.198}, {'stationId': S104, 'value': 0.2}, {'stationId': S226, 'value': 0.0}, {'stationId': S223, 'value': 0.203}, {'stationId': S224, 'value': 0.0}, {'stationId': S71, 'value': 0.2}, {'stationId': S33, 'value': 0.2}, {'stationId': S77, 'value': 0.2}, {'stationId': S79, 'value': 0.2}, {'stationId': S111, 'value': 0.2}, {'stationId': S112, 'value': 0.2}, {'stationId': S230, 'value': 0.2}] │\n",
            "│ 2025-01-10T23:40:00+08:00 │ [{'stationId': S218, 'value': 0.0}, {'stationId': S219, 'value': 0.201}, {'stationId': S216, 'value': 0.204}, {'stationId': S217, 'value': 0.197}, {'stationId': S214, 'value': 0.197}, {'stationId': S215, 'value': 0.203}, {'stationId': S213, 'value': 0.2}, {'stationId': S81, 'value': 0.2}, {'stationId': S40, 'value': 0.0}, {'stationId': S84, 'value': 0.4}, {'stationId': S44, 'value': 0.4}, {'stationId': S88, 'value': 0.2}, {'stationId': S43, 'value': 0.4}, {'stationId': S89, 'value': 0.6}, {'stationId': S06, 'value': 0.2}, {'stationId': S221, 'value': 0.396}, {'stationId': S222, 'value': 0.201}, {'stationId': S08, 'value': 0.2}, {'stationId': S07, 'value': 0.2}, {'stationId': S220, 'value': 0.203}, {'stationId': S207, 'value': 0.402}, {'stationId': S208, 'value': 0.204}, {'stationId': S203, 'value': 0.201}, {'stationId': S201, 'value': 0.0}, {'stationId': S90, 'value': 0.2}, {'stationId': S92, 'value': 0.2}, {'stationId': S209, 'value': 0.404}, {'stationId': S50, 'value': 0.0}, {'stationId': S94, 'value': 0.4}, {'stationId': S210, 'value': 0.0}, {'stationId': S211, 'value': 0.203}, {'stationId': S119, 'value': 0.2}, {'stationId': S117, 'value': 0.4}, {'stationId': S115, 'value': 0.6}, {'stationId': S116, 'value': 0.2}, {'stationId': S113, 'value': 0.4}, {'stationId': S60, 'value': 0.4}, {'stationId': S64, 'value': 0.2}, {'stationId': S66, 'value': 0.2}, {'stationId': S24, 'value': 0.4}, {'stationId': S69, 'value': 0.2}, {'stationId': S123, 'value': 0.2}, {'stationId': S29, 'value': 0.4}, {'stationId': S121, 'value': 0.2}, {'stationId': S229, 'value': 0.203}, {'stationId': S900, 'value': 0.2}, {'stationId': S109, 'value': 0.4}, {'stationId': S106, 'value': 0.2}, {'stationId': S227, 'value': 0.202}, {'stationId': S107, 'value': 0.4}, {'stationId': S228, 'value': 0.396}, {'stationId': S104, 'value': 0.0}, {'stationId': S226, 'value': 0.2}, {'stationId': S223, 'value': 0.0}, {'stationId': S224, 'value': 0.0}, {'stationId': S71, 'value': 0.2}, {'stationId': S33, 'value': 0.4}, {'stationId': S77, 'value': 0.2}, {'stationId': S79, 'value': 0.2}, {'stationId': S111, 'value': 0.2}, {'stationId': S112, 'value': 0.2}, {'stationId': S230, 'value': 0.2}]   │\n",
            "│ 2025-01-10T23:35:00+08:00 │ [{'stationId': S218, 'value': 0.204}, {'stationId': S219, 'value': 0.201}, {'stationId': S216, 'value': 0.204}, {'stationId': S217, 'value': 0.197}, {'stationId': S214, 'value': 0.197}, {'stationId': S215, 'value': 0.203}, {'stationId': S213, 'value': 0.2}, {'stationId': S81, 'value': 0.2}, {'stationId': S40, 'value': 0.2}, {'stationId': S84, 'value': 0.4}, {'stationId': S44, 'value': 0.4}, {'stationId': S88, 'value': 0.2}, {'stationId': S43, 'value': 0.2}, {'stationId': S89, 'value': 0.4}, {'stationId': S06, 'value': 0.2}, {'stationId': S221, 'value': 0.198}, {'stationId': S222, 'value': 0.201}, {'stationId': S08, 'value': 0.2}, {'stationId': S07, 'value': 0.0}, {'stationId': S220, 'value': 0.406}, {'stationId': S207, 'value': 0.402}, {'stationId': S208, 'value': 0.204}, {'stationId': S203, 'value': 0.201}, {'stationId': S201, 'value': 0.2}, {'stationId': S90, 'value': 0.0}, {'stationId': S92, 'value': 0.2}, {'stationId': S209, 'value': 0.202}, {'stationId': S50, 'value': 0.2}, {'stationId': S94, 'value': 0.2}, {'stationId': S210, 'value': 0.201}, {'stationId': S211, 'value': 0.0}, {'stationId': S119, 'value': 0.2}, {'stationId': S117, 'value': 0.8}, {'stationId': S115, 'value': 0.6}, {'stationId': S116, 'value': 0.4}, {'stationId': S113, 'value': 0.4}, {'stationId': S60, 'value': 0.2}, {'stationId': S64, 'value': 0.0}, {'stationId': S66, 'value': 0.2}, {'stationId': S24, 'value': 0.2}, {'stationId': S69, 'value': 0.0}, {'stationId': S123, 'value': 0.2}, {'stationId': S29, 'value': 0.2}, {'stationId': S121, 'value': 0.2}, {'stationId': S229, 'value': 0.203}, {'stationId': S900, 'value': 0.2}, {'stationId': S109, 'value': 0.0}, {'stationId': S106, 'value': 0.2}, {'stationId': S227, 'value': 0.0}, {'stationId': S107, 'value': 0.2}, {'stationId': S228, 'value': 0.198}, {'stationId': S104, 'value': 0.2}, {'stationId': S226, 'value': 0.4}, {'stationId': S223, 'value': 0.203}, {'stationId': S224, 'value': 0.0}, {'stationId': S71, 'value': 0.2}, {'stationId': S33, 'value': 0.4}, {'stationId': S77, 'value': 0.2}, {'stationId': S79, 'value': 0.2}, {'stationId': S111, 'value': 0.2}, {'stationId': S112, 'value': 0.2}, {'stationId': S230, 'value': 0.2}] │\n",
            "└───────────────────────────┴──────────────────────────────────────────────────────────────────────────────────────────────────────────────────────────────────────────────────────────────────────────────────────────────────────────────────────────────────────────────────────────────────────────────────────────────────────────────────────────────────────────────────────────────────────────────────────────────────────────────────────────────────────────────────────────────────────────────────────────────────────────────────────────────────────────────────────────────────────────────────────────────────────────────────────────────────────────────────────────────────────────────────────────────────────────────────────────────────────────────────────────────────────────────────────────────────────────────────────────────────────────────────────────────────────────────────────────────────────────────────────────────────────────────────────────────────────────────────────────────────────────────────────────────────────────────────────────────────────────────────────────────────────────────────────────────────────────────────────────────────────────────────────────────────────────────────────────────────────────────────────────────────────────────────────────────────────────────────────────────────────────────────────────────────────────────────────────────────────────────────────────────────────────────────────────────────────────────────────────────────────────────────────────────────────────────────────────────────────────────────────────────────────────────────────────────────────────────────────────────────────────────────────────────────────────────────────────────────────────────────────────────────────────────────────────────────────────────────────────────────────────────────────────────────────────────────────────────────────────────────────────────────────────────────────────────────────────────────────────────────────────────────────────────────────────────────────────────────────────────────────────────────────────────────────────────────────────────────────────────────────────────────────────────────────────────────────────────────────────────────────────────────────┘\n",
            "\n",
            "┌────────────┬────────────────────┬───────────────────────────────────────────────┐\n",
            "│ station_id │        name        │                   location                    │\n",
            "│  varchar   │      varchar       │   struct(latitude double, longitude double)   │\n",
            "├────────────┼────────────────────┼───────────────────────────────────────────────┤\n",
            "│ S06        │ Paya Lebar         │ {'latitude': 1.3524, 'longitude': 103.9007}   │\n",
            "│ S07        │ Lornie Road        │ {'latitude': 1.3415, 'longitude': 103.8334}   │\n",
            "│ S08        │ Upper Thomson Road │ {'latitude': 1.3701, 'longitude': 103.8271}   │\n",
            "│ S104       │ Woodlands Avenue 9 │ {'latitude': 1.44387, 'longitude': 103.78538} │\n",
            "│ S106       │ Pulau Ubin         │ {'latitude': 1.4168, 'longitude': 103.9673}   │\n",
            "└────────────┴────────────────────┴───────────────────────────────────────────────┘\n",
            "\n"
          ]
        }
      ]
    },
    {
      "cell_type": "markdown",
      "source": [
        "Download into csv files (optional)\n"
      ],
      "metadata": {
        "id": "C5xL_IRIAGrg"
      }
    },
    {
      "cell_type": "code",
      "source": [
        "duckdb.sql(\"COPY readings TO 'readings.csv' (HEADER, DELIMITER ',');\")\n",
        "duckdb.sql(\"COPY stations TO 'stations.csv' (HEADER, DELIMITER ',');\")"
      ],
      "metadata": {
        "id": "YK-u7PFH9QWK"
      },
      "execution_count": 12,
      "outputs": []
    },
    {
      "cell_type": "code",
      "source": [
        "from google.colab import files\n",
        "\n",
        "files.download(\"readings.csv\")\n",
        "files.download(\"stations.csv\")"
      ],
      "metadata": {
        "colab": {
          "base_uri": "https://localhost:8080/",
          "height": 17
        },
        "id": "zKUwLdlw9VJ_",
        "outputId": "3afd6404-df9c-444b-ae03-36f4bf9c4cfd"
      },
      "execution_count": 13,
      "outputs": [
        {
          "output_type": "display_data",
          "data": {
            "text/plain": [
              "<IPython.core.display.Javascript object>"
            ],
            "application/javascript": [
              "\n",
              "    async function download(id, filename, size) {\n",
              "      if (!google.colab.kernel.accessAllowed) {\n",
              "        return;\n",
              "      }\n",
              "      const div = document.createElement('div');\n",
              "      const label = document.createElement('label');\n",
              "      label.textContent = `Downloading \"${filename}\": `;\n",
              "      div.appendChild(label);\n",
              "      const progress = document.createElement('progress');\n",
              "      progress.max = size;\n",
              "      div.appendChild(progress);\n",
              "      document.body.appendChild(div);\n",
              "\n",
              "      const buffers = [];\n",
              "      let downloaded = 0;\n",
              "\n",
              "      const channel = await google.colab.kernel.comms.open(id);\n",
              "      // Send a message to notify the kernel that we're ready.\n",
              "      channel.send({})\n",
              "\n",
              "      for await (const message of channel.messages) {\n",
              "        // Send a message to notify the kernel that we're ready.\n",
              "        channel.send({})\n",
              "        if (message.buffers) {\n",
              "          for (const buffer of message.buffers) {\n",
              "            buffers.push(buffer);\n",
              "            downloaded += buffer.byteLength;\n",
              "            progress.value = downloaded;\n",
              "          }\n",
              "        }\n",
              "      }\n",
              "      const blob = new Blob(buffers, {type: 'application/binary'});\n",
              "      const a = document.createElement('a');\n",
              "      a.href = window.URL.createObjectURL(blob);\n",
              "      a.download = filename;\n",
              "      div.appendChild(a);\n",
              "      a.click();\n",
              "      div.remove();\n",
              "    }\n",
              "  "
            ]
          },
          "metadata": {}
        },
        {
          "output_type": "display_data",
          "data": {
            "text/plain": [
              "<IPython.core.display.Javascript object>"
            ],
            "application/javascript": [
              "download(\"download_c2d87d7f-5396-43b2-a256-cf0053f5384c\", \"readings.csv\", 3670290)"
            ]
          },
          "metadata": {}
        },
        {
          "output_type": "display_data",
          "data": {
            "text/plain": [
              "<IPython.core.display.Javascript object>"
            ],
            "application/javascript": [
              "\n",
              "    async function download(id, filename, size) {\n",
              "      if (!google.colab.kernel.accessAllowed) {\n",
              "        return;\n",
              "      }\n",
              "      const div = document.createElement('div');\n",
              "      const label = document.createElement('label');\n",
              "      label.textContent = `Downloading \"${filename}\": `;\n",
              "      div.appendChild(label);\n",
              "      const progress = document.createElement('progress');\n",
              "      progress.max = size;\n",
              "      div.appendChild(progress);\n",
              "      document.body.appendChild(div);\n",
              "\n",
              "      const buffers = [];\n",
              "      let downloaded = 0;\n",
              "\n",
              "      const channel = await google.colab.kernel.comms.open(id);\n",
              "      // Send a message to notify the kernel that we're ready.\n",
              "      channel.send({})\n",
              "\n",
              "      for await (const message of channel.messages) {\n",
              "        // Send a message to notify the kernel that we're ready.\n",
              "        channel.send({})\n",
              "        if (message.buffers) {\n",
              "          for (const buffer of message.buffers) {\n",
              "            buffers.push(buffer);\n",
              "            downloaded += buffer.byteLength;\n",
              "            progress.value = downloaded;\n",
              "          }\n",
              "        }\n",
              "      }\n",
              "      const blob = new Blob(buffers, {type: 'application/binary'});\n",
              "      const a = document.createElement('a');\n",
              "      a.href = window.URL.createObjectURL(blob);\n",
              "      a.download = filename;\n",
              "      div.appendChild(a);\n",
              "      a.click();\n",
              "      div.remove();\n",
              "    }\n",
              "  "
            ]
          },
          "metadata": {}
        },
        {
          "output_type": "display_data",
          "data": {
            "text/plain": [
              "<IPython.core.display.Javascript object>"
            ],
            "application/javascript": [
              "download(\"download_dc7b4c00-b245-4c4c-a6ee-b22d5f681a46\", \"stations.csv\", 4314)"
            ]
          },
          "metadata": {}
        }
      ]
    },
    {
      "cell_type": "markdown",
      "source": [
        "Query directly here in Colab (doing it two ways here: 1. query directly here and 2. update query in the sqls/*.sql)"
      ],
      "metadata": {
        "id": "3DVlcD7EAJop"
      }
    },
    {
      "cell_type": "markdown",
      "source": [
        "1.\tHow many stations have names starting with “Pasir”?"
      ],
      "metadata": {
        "id": "kleQqQn8A7yS"
      }
    },
    {
      "cell_type": "code",
      "source": [
        "# Connect to DuckDB in memory (or specify a file for persistence)\n",
        "con = duckdb.connect(database=\":memory:\", read_only=False)\n",
        "\n",
        "# Run the query to find station names starting with \"Bukit\"\n",
        "query = \"SELECT COUNT(*) as count FROM stations WHERE name LIKE 'Pasir%';\"\n",
        "result = duckdb.sql(query).fetchall()\n",
        "\n",
        "# Display result in Colab cell\n",
        "print(f\"Number of stations starting with 'Pasir': {result[0][0]}\")"
      ],
      "metadata": {
        "colab": {
          "base_uri": "https://localhost:8080/"
        },
        "id": "3p5a0F-0--C7",
        "outputId": "d94b4530-afe9-4313-d607-52dbc153e643"
      },
      "execution_count": 14,
      "outputs": [
        {
          "output_type": "stream",
          "name": "stdout",
          "text": [
            "Number of stations starting with 'Pasir': 3\n"
          ]
        }
      ]
    },
    {
      "cell_type": "markdown",
      "source": [
        "Read and update sql files in sql directory"
      ],
      "metadata": {
        "id": "qG0hLHsOAORz"
      }
    },
    {
      "cell_type": "code",
      "source": [
        "# Read the existing SQL query\n",
        "file_path = \"sqls/q1.sql\"\n",
        "\n",
        "with open(file_path, \"r\") as f:\n",
        "    sql_query = f.read()\n",
        "\n",
        "print(\"Current Query:\\n\", sql_query)  # Display the current SQL query"
      ],
      "metadata": {
        "colab": {
          "base_uri": "https://localhost:8080/"
        },
        "id": "UpikRY92WI4J",
        "outputId": "85a65b2e-9991-4f40-f1a4-734847f1c7f5"
      },
      "execution_count": 15,
      "outputs": [
        {
          "output_type": "stream",
          "name": "stdout",
          "text": [
            "Current Query:\n",
            " SELECT COUNT(*) FROM readings;\n"
          ]
        }
      ]
    },
    {
      "cell_type": "code",
      "source": [
        "new_query = \"SELECT COUNT(*) as count FROM stations WHERE name LIKE 'Pasir%';\"  # Modify this\n",
        "\n",
        "# Overwrite the SQL file with the new query\n",
        "with open(file_path, \"w\") as f:\n",
        "    f.write(new_query)\n",
        "\n",
        "print(\"Updated q1.sql successfully!\")"
      ],
      "metadata": {
        "colab": {
          "base_uri": "https://localhost:8080/"
        },
        "id": "FCRpRA2fXInM",
        "outputId": "a4bf8e07-8d2d-4efe-cd82-a5302e46b1b0"
      },
      "execution_count": 16,
      "outputs": [
        {
          "output_type": "stream",
          "name": "stdout",
          "text": [
            "Updated q1.sql successfully!\n"
          ]
        }
      ]
    },
    {
      "cell_type": "code",
      "source": [
        "def execute_sql_from_file(file_path):\n",
        "    with open(file_path, 'r') as f:\n",
        "        sql_query = f.read()\n",
        "    result = duckdb.sql(sql_query).df()  # Convert output to DataFrame\n",
        "    return result\n",
        "\n",
        "# Run the query from 'sqls/q1.sql'\n",
        "execute_sql_from_file(\"sqls/q1.sql\")"
      ],
      "metadata": {
        "colab": {
          "base_uri": "https://localhost:8080/",
          "height": 81
        },
        "id": "1KVn7BOi_fqK",
        "outputId": "950337a7-85ff-4424-f638-c73d18ccd9d6"
      },
      "execution_count": 17,
      "outputs": [
        {
          "output_type": "execute_result",
          "data": {
            "text/plain": [
              "   count\n",
              "0      3"
            ],
            "text/html": [
              "\n",
              "  <div id=\"df-b97c44ae-954f-41dc-946b-de7e61f5d7c9\" class=\"colab-df-container\">\n",
              "    <div>\n",
              "<style scoped>\n",
              "    .dataframe tbody tr th:only-of-type {\n",
              "        vertical-align: middle;\n",
              "    }\n",
              "\n",
              "    .dataframe tbody tr th {\n",
              "        vertical-align: top;\n",
              "    }\n",
              "\n",
              "    .dataframe thead th {\n",
              "        text-align: right;\n",
              "    }\n",
              "</style>\n",
              "<table border=\"1\" class=\"dataframe\">\n",
              "  <thead>\n",
              "    <tr style=\"text-align: right;\">\n",
              "      <th></th>\n",
              "      <th>count</th>\n",
              "    </tr>\n",
              "  </thead>\n",
              "  <tbody>\n",
              "    <tr>\n",
              "      <th>0</th>\n",
              "      <td>3</td>\n",
              "    </tr>\n",
              "  </tbody>\n",
              "</table>\n",
              "</div>\n",
              "    <div class=\"colab-df-buttons\">\n",
              "\n",
              "  <div class=\"colab-df-container\">\n",
              "    <button class=\"colab-df-convert\" onclick=\"convertToInteractive('df-b97c44ae-954f-41dc-946b-de7e61f5d7c9')\"\n",
              "            title=\"Convert this dataframe to an interactive table.\"\n",
              "            style=\"display:none;\">\n",
              "\n",
              "  <svg xmlns=\"http://www.w3.org/2000/svg\" height=\"24px\" viewBox=\"0 -960 960 960\">\n",
              "    <path d=\"M120-120v-720h720v720H120Zm60-500h600v-160H180v160Zm220 220h160v-160H400v160Zm0 220h160v-160H400v160ZM180-400h160v-160H180v160Zm440 0h160v-160H620v160ZM180-180h160v-160H180v160Zm440 0h160v-160H620v160Z\"/>\n",
              "  </svg>\n",
              "    </button>\n",
              "\n",
              "  <style>\n",
              "    .colab-df-container {\n",
              "      display:flex;\n",
              "      gap: 12px;\n",
              "    }\n",
              "\n",
              "    .colab-df-convert {\n",
              "      background-color: #E8F0FE;\n",
              "      border: none;\n",
              "      border-radius: 50%;\n",
              "      cursor: pointer;\n",
              "      display: none;\n",
              "      fill: #1967D2;\n",
              "      height: 32px;\n",
              "      padding: 0 0 0 0;\n",
              "      width: 32px;\n",
              "    }\n",
              "\n",
              "    .colab-df-convert:hover {\n",
              "      background-color: #E2EBFA;\n",
              "      box-shadow: 0px 1px 2px rgba(60, 64, 67, 0.3), 0px 1px 3px 1px rgba(60, 64, 67, 0.15);\n",
              "      fill: #174EA6;\n",
              "    }\n",
              "\n",
              "    .colab-df-buttons div {\n",
              "      margin-bottom: 4px;\n",
              "    }\n",
              "\n",
              "    [theme=dark] .colab-df-convert {\n",
              "      background-color: #3B4455;\n",
              "      fill: #D2E3FC;\n",
              "    }\n",
              "\n",
              "    [theme=dark] .colab-df-convert:hover {\n",
              "      background-color: #434B5C;\n",
              "      box-shadow: 0px 1px 3px 1px rgba(0, 0, 0, 0.15);\n",
              "      filter: drop-shadow(0px 1px 2px rgba(0, 0, 0, 0.3));\n",
              "      fill: #FFFFFF;\n",
              "    }\n",
              "  </style>\n",
              "\n",
              "    <script>\n",
              "      const buttonEl =\n",
              "        document.querySelector('#df-b97c44ae-954f-41dc-946b-de7e61f5d7c9 button.colab-df-convert');\n",
              "      buttonEl.style.display =\n",
              "        google.colab.kernel.accessAllowed ? 'block' : 'none';\n",
              "\n",
              "      async function convertToInteractive(key) {\n",
              "        const element = document.querySelector('#df-b97c44ae-954f-41dc-946b-de7e61f5d7c9');\n",
              "        const dataTable =\n",
              "          await google.colab.kernel.invokeFunction('convertToInteractive',\n",
              "                                                    [key], {});\n",
              "        if (!dataTable) return;\n",
              "\n",
              "        const docLinkHtml = 'Like what you see? Visit the ' +\n",
              "          '<a target=\"_blank\" href=https://colab.research.google.com/notebooks/data_table.ipynb>data table notebook</a>'\n",
              "          + ' to learn more about interactive tables.';\n",
              "        element.innerHTML = '';\n",
              "        dataTable['output_type'] = 'display_data';\n",
              "        await google.colab.output.renderOutput(dataTable, element);\n",
              "        const docLink = document.createElement('div');\n",
              "        docLink.innerHTML = docLinkHtml;\n",
              "        element.appendChild(docLink);\n",
              "      }\n",
              "    </script>\n",
              "  </div>\n",
              "\n",
              "\n",
              "    </div>\n",
              "  </div>\n"
            ],
            "application/vnd.google.colaboratory.intrinsic+json": {
              "type": "dataframe",
              "summary": "{\n  \"name\": \"execute_sql_from_file(\\\"sqls/q1\",\n  \"rows\": 1,\n  \"fields\": [\n    {\n      \"column\": \"count\",\n      \"properties\": {\n        \"dtype\": \"number\",\n        \"std\": null,\n        \"min\": 3,\n        \"max\": 3,\n        \"num_unique_values\": 1,\n        \"samples\": [\n          3\n        ],\n        \"semantic_type\": \"\",\n        \"description\": \"\"\n      }\n    }\n  ]\n}"
            }
          },
          "metadata": {},
          "execution_count": 17
        }
      ]
    },
    {
      "cell_type": "markdown",
      "source": [
        "2.\tWhat is the total rainfall measured for the whole period"
      ],
      "metadata": {
        "id": "lPG8IK61BDtq"
      }
    },
    {
      "cell_type": "code",
      "source": [
        "duckdb.sql(\"DESCRIBE readings\").show()"
      ],
      "metadata": {
        "colab": {
          "base_uri": "https://localhost:8080/"
        },
        "id": "Y5-ivOhyCgcg",
        "outputId": "83956bf6-5e65-4974-9eac-11b938c5d58d"
      },
      "execution_count": 18,
      "outputs": [
        {
          "output_type": "stream",
          "name": "stdout",
          "text": [
            "┌─────────────┬─────────────────────────────────────────────┬─────────┬─────────┬─────────┬─────────┐\n",
            "│ column_name │                 column_type                 │  null   │   key   │ default │  extra  │\n",
            "│   varchar   │                   varchar                   │ varchar │ varchar │ varchar │ varchar │\n",
            "├─────────────┼─────────────────────────────────────────────┼─────────┼─────────┼─────────┼─────────┤\n",
            "│ timestamp   │ VARCHAR                                     │ YES     │ NULL    │ NULL    │ NULL    │\n",
            "│ data        │ STRUCT(stationId VARCHAR, \"value\" DOUBLE)[] │ YES     │ NULL    │ NULL    │ NULL    │\n",
            "└─────────────┴─────────────────────────────────────────────┴─────────┴─────────┴─────────┴─────────┘\n",
            "\n"
          ]
        }
      ]
    },
    {
      "cell_type": "code",
      "source": [
        "duckdb.sql(\"SELECT data FROM readings LIMIT 5\").show()"
      ],
      "metadata": {
        "colab": {
          "base_uri": "https://localhost:8080/"
        },
        "id": "jmGpxARNR1uu",
        "outputId": "e15c130d-b0c5-4376-a2ef-46f640a6ac90"
      },
      "execution_count": 19,
      "outputs": [
        {
          "output_type": "stream",
          "name": "stdout",
          "text": [
            "┌──────────────────────────────────────────────────────────────────────────────────────────────────────────────────────────────────────────────────────────────────────────────────────────────────────────────────────────────────────────────────────────────────────────────────────────────────────────────────────────────────────────────────────────────────────────────────────────────────────────────────────────────────────────────────────────────────────────────────────────────────────────────────────────────────────────────────────────────────────────────────────────────────────────────────────────────────────────────────────────────────────────────────────────────────────────────────────────────────────────────────────────────────────────────────────────────────────────────────────────────────────────────────────────────────────────────────────────────────────────────────────────────────────────────────────────────────────────────────────────────────────────────────────────────────────────────────────────────────────────────────────────────────────────────────────────────────────────────────────────────────────────────────────────────────────────────────────────────────────────────────────────────────────────────────────────────────────────────────────────────────────────────────────────────────────────────────────────────────────────────────────────────────────────────────────────────────────────────────────────────────────────────────────────────────────────────────────────────────────────────────────────────────────────────────────────────────────────────────────────────────────────────────────────────────────────────────────────────────────────────────────────────────────────────────────────────────────────────────────────────────────────────────────────────────────────────────────────────────────────────────────────────────────────────────────────────────────────────────────────────────────────────────────────────────────────────────────────────────────────────────────────────────────────────────────────────────────────────────────────────────────────────────────────────────────────────────────────────────────────────────────────────────────┐\n",
            "│                                                                                                                                                                                                                                                                                                                                                                                                                                                                                                                                                                                                                                                                                                                                                                                                                                                                                                                                                                                                                                                                                                                                 data                                                                                                                                                                                                                                                                                                                                                                                                                                                                                                                                                                                                                                                                                                                                                                                                                                                                                                                                                                                                                                                                                                                                 │\n",
            "│                                                                                                                                                                                                                                                                                                                                                                                                                                                                                                                                                                                                                                                                                                                                                                                                                                                                                                                                                                                                                                                                                                             struct(stationid varchar, \"value\" double)[]                                                                                                                                                                                                                                                                                                                                                                                                                                                                                                                                                                                                                                                                                                                                                                                                                                                                                                                                                                                                                                                                                                              │\n",
            "├──────────────────────────────────────────────────────────────────────────────────────────────────────────────────────────────────────────────────────────────────────────────────────────────────────────────────────────────────────────────────────────────────────────────────────────────────────────────────────────────────────────────────────────────────────────────────────────────────────────────────────────────────────────────────────────────────────────────────────────────────────────────────────────────────────────────────────────────────────────────────────────────────────────────────────────────────────────────────────────────────────────────────────────────────────────────────────────────────────────────────────────────────────────────────────────────────────────────────────────────────────────────────────────────────────────────────────────────────────────────────────────────────────────────────────────────────────────────────────────────────────────────────────────────────────────────────────────────────────────────────────────────────────────────────────────────────────────────────────────────────────────────────────────────────────────────────────────────────────────────────────────────────────────────────────────────────────────────────────────────────────────────────────────────────────────────────────────────────────────────────────────────────────────────────────────────────────────────────────────────────────────────────────────────────────────────────────────────────────────────────────────────────────────────────────────────────────────────────────────────────────────────────────────────────────────────────────────────────────────────────────────────────────────────────────────────────────────────────────────────────────────────────────────────────────────────────────────────────────────────────────────────────────────────────────────────────────────────────────────────────────────────────────────────────────────────────────────────────────────────────────────────────────────────────────────────────────────────────────────────────────────────────────────────────────────────────────────────────────────────────────────────────────┤\n",
            "│ [{'stationId': S218, 'value': 0.204}, {'stationId': S219, 'value': 0.402}, {'stationId': S216, 'value': 0.204}, {'stationId': S217, 'value': 0.197}, {'stationId': S214, 'value': 0.394}, {'stationId': S215, 'value': 0.203}, {'stationId': S213, 'value': 0.4}, {'stationId': S81, 'value': 0.4}, {'stationId': S40, 'value': 0.2}, {'stationId': S84, 'value': 0.2}, {'stationId': S44, 'value': 0.0}, {'stationId': S88, 'value': 0.2}, {'stationId': S43, 'value': 0.4}, {'stationId': S89, 'value': 0.2}, {'stationId': S06, 'value': 0.4}, {'stationId': S221, 'value': 0.198}, {'stationId': S222, 'value': 0.201}, {'stationId': S08, 'value': 0.2}, {'stationId': S07, 'value': 0.2}, {'stationId': S220, 'value': 0.406}, {'stationId': S207, 'value': 0.201}, {'stationId': S208, 'value': 0.0}, {'stationId': S203, 'value': 0.201}, {'stationId': S201, 'value': 0.2}, {'stationId': S90, 'value': 0.2}, {'stationId': S92, 'value': 0.2}, {'stationId': S209, 'value': 0.404}, {'stationId': S50, 'value': 0.2}, {'stationId': S94, 'value': 0.0}, {'stationId': S210, 'value': 0.201}, {'stationId': S211, 'value': 0.203}, {'stationId': S119, 'value': 0.2}, {'stationId': S117, 'value': 0.4}, {'stationId': S115, 'value': 0.4}, {'stationId': S116, 'value': 0.2}, {'stationId': S113, 'value': 0.4}, {'stationId': S60, 'value': 0.2}, {'stationId': S64, 'value': 0.2}, {'stationId': S66, 'value': 0.2}, {'stationId': S24, 'value': 0.0}, {'stationId': S69, 'value': 0.4}, {'stationId': S123, 'value': 0.4}, {'stationId': S29, 'value': 0.4}, {'stationId': S121, 'value': 0.2}, {'stationId': S229, 'value': 0.0}, {'stationId': S900, 'value': 0.4}, {'stationId': S109, 'value': 0.4}, {'stationId': S106, 'value': 0.2}, {'stationId': S227, 'value': 0.202}, {'stationId': S107, 'value': 0.2}, {'stationId': S228, 'value': 0.198}, {'stationId': S104, 'value': 0.4}, {'stationId': S226, 'value': 0.4}, {'stationId': S223, 'value': 0.203}, {'stationId': S224, 'value': 0.0}, {'stationId': S71, 'value': 0.2}, {'stationId': S33, 'value': 0.2}, {'stationId': S77, 'value': 0.2}, {'stationId': S79, 'value': 0.4}, {'stationId': S111, 'value': 0.2}, {'stationId': S112, 'value': 0.2}, {'stationId': S230, 'value': 0.2}] │\n",
            "│ [{'stationId': S218, 'value': 0.0}, {'stationId': S219, 'value': 0.603}, {'stationId': S216, 'value': 0.408}, {'stationId': S217, 'value': 0.394}, {'stationId': S214, 'value': 0.197}, {'stationId': S215, 'value': 0.203}, {'stationId': S213, 'value': 0.0}, {'stationId': S81, 'value': 0.4}, {'stationId': S40, 'value': 0.2}, {'stationId': S84, 'value': 0.2}, {'stationId': S44, 'value': 0.2}, {'stationId': S88, 'value': 0.2}, {'stationId': S43, 'value': 0.2}, {'stationId': S89, 'value': 0.2}, {'stationId': S06, 'value': 0.2}, {'stationId': S221, 'value': 0.594}, {'stationId': S222, 'value': 0.402}, {'stationId': S08, 'value': 0.4}, {'stationId': S07, 'value': 0.4}, {'stationId': S220, 'value': 0.406}, {'stationId': S207, 'value': 0.201}, {'stationId': S208, 'value': 0.0}, {'stationId': S203, 'value': 0.201}, {'stationId': S201, 'value': 0.0}, {'stationId': S90, 'value': 0.2}, {'stationId': S92, 'value': 0.2}, {'stationId': S209, 'value': 0.202}, {'stationId': S50, 'value': 0.0}, {'stationId': S94, 'value': 0.4}, {'stationId': S210, 'value': 0.201}, {'stationId': S211, 'value': 0.203}, {'stationId': S119, 'value': 0.4}, {'stationId': S117, 'value': 0.4}, {'stationId': S115, 'value': 0.8}, {'stationId': S116, 'value': 0.2}, {'stationId': S113, 'value': 0.2}, {'stationId': S60, 'value': 0.4}, {'stationId': S64, 'value': 0.2}, {'stationId': S66, 'value': 0.2}, {'stationId': S24, 'value': 0.2}, {'stationId': S69, 'value': 0.2}, {'stationId': S123, 'value': 0.4}, {'stationId': S29, 'value': 0.2}, {'stationId': S121, 'value': 0.2}, {'stationId': S229, 'value': 0.203}, {'stationId': S900, 'value': 0.2}, {'stationId': S109, 'value': 0.4}, {'stationId': S106, 'value': 0.4}, {'stationId': S227, 'value': 0.606}, {'stationId': S107, 'value': 0.4}, {'stationId': S228, 'value': 0.0}, {'stationId': S104, 'value': 0.2}, {'stationId': S226, 'value': 0.2}, {'stationId': S223, 'value': 0.203}, {'stationId': S224, 'value': 0.0}, {'stationId': S71, 'value': 0.2}, {'stationId': S33, 'value': 0.2}, {'stationId': S77, 'value': 0.2}, {'stationId': S79, 'value': 0.2}, {'stationId': S111, 'value': 0.2}, {'stationId': S112, 'value': 0.0}, {'stationId': S230, 'value': 0.0}]   │\n",
            "│ [{'stationId': S218, 'value': 0.204}, {'stationId': S219, 'value': 0.402}, {'stationId': S216, 'value': 0.408}, {'stationId': S217, 'value': 0.197}, {'stationId': S214, 'value': 0.197}, {'stationId': S215, 'value': 0.203}, {'stationId': S213, 'value': 0.2}, {'stationId': S81, 'value': 0.4}, {'stationId': S40, 'value': 0.2}, {'stationId': S84, 'value': 0.4}, {'stationId': S44, 'value': 0.2}, {'stationId': S88, 'value': 0.4}, {'stationId': S43, 'value': 0.2}, {'stationId': S89, 'value': 0.4}, {'stationId': S06, 'value': 0.4}, {'stationId': S221, 'value': 0.198}, {'stationId': S222, 'value': 0.201}, {'stationId': S08, 'value': 0.2}, {'stationId': S07, 'value': 0.2}, {'stationId': S220, 'value': 0.203}, {'stationId': S207, 'value': 0.402}, {'stationId': S208, 'value': 0.408}, {'stationId': S203, 'value': 0.201}, {'stationId': S201, 'value': 0.2}, {'stationId': S90, 'value': 0.4}, {'stationId': S92, 'value': 0.2}, {'stationId': S209, 'value': 0.404}, {'stationId': S50, 'value': 0.2}, {'stationId': S94, 'value': 0.2}, {'stationId': S210, 'value': 0.201}, {'stationId': S211, 'value': 0.0}, {'stationId': S119, 'value': 0.2}, {'stationId': S117, 'value': 0.6}, {'stationId': S115, 'value': 0.6}, {'stationId': S116, 'value': 0.2}, {'stationId': S113, 'value': 0.4}, {'stationId': S60, 'value': 0.2}, {'stationId': S64, 'value': 0.0}, {'stationId': S66, 'value': 0.0}, {'stationId': S24, 'value': 0.2}, {'stationId': S69, 'value': 0.2}, {'stationId': S123, 'value': 0.2}, {'stationId': S29, 'value': 0.4}, {'stationId': S121, 'value': 0.0}, {'stationId': S229, 'value': 0.0}, {'stationId': S900, 'value': 0.6}, {'stationId': S109, 'value': 0.2}, {'stationId': S106, 'value': 0.2}, {'stationId': S227, 'value': 0.202}, {'stationId': S107, 'value': 0.4}, {'stationId': S228, 'value': 0.198}, {'stationId': S104, 'value': 0.2}, {'stationId': S226, 'value': 0.0}, {'stationId': S223, 'value': 0.203}, {'stationId': S224, 'value': 0.0}, {'stationId': S71, 'value': 0.2}, {'stationId': S33, 'value': 0.2}, {'stationId': S77, 'value': 0.2}, {'stationId': S79, 'value': 0.2}, {'stationId': S111, 'value': 0.2}, {'stationId': S112, 'value': 0.2}, {'stationId': S230, 'value': 0.2}] │\n",
            "│ [{'stationId': S218, 'value': 0.0}, {'stationId': S219, 'value': 0.201}, {'stationId': S216, 'value': 0.204}, {'stationId': S217, 'value': 0.197}, {'stationId': S214, 'value': 0.197}, {'stationId': S215, 'value': 0.203}, {'stationId': S213, 'value': 0.2}, {'stationId': S81, 'value': 0.2}, {'stationId': S40, 'value': 0.0}, {'stationId': S84, 'value': 0.4}, {'stationId': S44, 'value': 0.4}, {'stationId': S88, 'value': 0.2}, {'stationId': S43, 'value': 0.4}, {'stationId': S89, 'value': 0.6}, {'stationId': S06, 'value': 0.2}, {'stationId': S221, 'value': 0.396}, {'stationId': S222, 'value': 0.201}, {'stationId': S08, 'value': 0.2}, {'stationId': S07, 'value': 0.2}, {'stationId': S220, 'value': 0.203}, {'stationId': S207, 'value': 0.402}, {'stationId': S208, 'value': 0.204}, {'stationId': S203, 'value': 0.201}, {'stationId': S201, 'value': 0.0}, {'stationId': S90, 'value': 0.2}, {'stationId': S92, 'value': 0.2}, {'stationId': S209, 'value': 0.404}, {'stationId': S50, 'value': 0.0}, {'stationId': S94, 'value': 0.4}, {'stationId': S210, 'value': 0.0}, {'stationId': S211, 'value': 0.203}, {'stationId': S119, 'value': 0.2}, {'stationId': S117, 'value': 0.4}, {'stationId': S115, 'value': 0.6}, {'stationId': S116, 'value': 0.2}, {'stationId': S113, 'value': 0.4}, {'stationId': S60, 'value': 0.4}, {'stationId': S64, 'value': 0.2}, {'stationId': S66, 'value': 0.2}, {'stationId': S24, 'value': 0.4}, {'stationId': S69, 'value': 0.2}, {'stationId': S123, 'value': 0.2}, {'stationId': S29, 'value': 0.4}, {'stationId': S121, 'value': 0.2}, {'stationId': S229, 'value': 0.203}, {'stationId': S900, 'value': 0.2}, {'stationId': S109, 'value': 0.4}, {'stationId': S106, 'value': 0.2}, {'stationId': S227, 'value': 0.202}, {'stationId': S107, 'value': 0.4}, {'stationId': S228, 'value': 0.396}, {'stationId': S104, 'value': 0.0}, {'stationId': S226, 'value': 0.2}, {'stationId': S223, 'value': 0.0}, {'stationId': S224, 'value': 0.0}, {'stationId': S71, 'value': 0.2}, {'stationId': S33, 'value': 0.4}, {'stationId': S77, 'value': 0.2}, {'stationId': S79, 'value': 0.2}, {'stationId': S111, 'value': 0.2}, {'stationId': S112, 'value': 0.2}, {'stationId': S230, 'value': 0.2}]   │\n",
            "│ [{'stationId': S218, 'value': 0.204}, {'stationId': S219, 'value': 0.201}, {'stationId': S216, 'value': 0.204}, {'stationId': S217, 'value': 0.197}, {'stationId': S214, 'value': 0.197}, {'stationId': S215, 'value': 0.203}, {'stationId': S213, 'value': 0.2}, {'stationId': S81, 'value': 0.2}, {'stationId': S40, 'value': 0.2}, {'stationId': S84, 'value': 0.4}, {'stationId': S44, 'value': 0.4}, {'stationId': S88, 'value': 0.2}, {'stationId': S43, 'value': 0.2}, {'stationId': S89, 'value': 0.4}, {'stationId': S06, 'value': 0.2}, {'stationId': S221, 'value': 0.198}, {'stationId': S222, 'value': 0.201}, {'stationId': S08, 'value': 0.2}, {'stationId': S07, 'value': 0.0}, {'stationId': S220, 'value': 0.406}, {'stationId': S207, 'value': 0.402}, {'stationId': S208, 'value': 0.204}, {'stationId': S203, 'value': 0.201}, {'stationId': S201, 'value': 0.2}, {'stationId': S90, 'value': 0.0}, {'stationId': S92, 'value': 0.2}, {'stationId': S209, 'value': 0.202}, {'stationId': S50, 'value': 0.2}, {'stationId': S94, 'value': 0.2}, {'stationId': S210, 'value': 0.201}, {'stationId': S211, 'value': 0.0}, {'stationId': S119, 'value': 0.2}, {'stationId': S117, 'value': 0.8}, {'stationId': S115, 'value': 0.6}, {'stationId': S116, 'value': 0.4}, {'stationId': S113, 'value': 0.4}, {'stationId': S60, 'value': 0.2}, {'stationId': S64, 'value': 0.0}, {'stationId': S66, 'value': 0.2}, {'stationId': S24, 'value': 0.2}, {'stationId': S69, 'value': 0.0}, {'stationId': S123, 'value': 0.2}, {'stationId': S29, 'value': 0.2}, {'stationId': S121, 'value': 0.2}, {'stationId': S229, 'value': 0.203}, {'stationId': S900, 'value': 0.2}, {'stationId': S109, 'value': 0.0}, {'stationId': S106, 'value': 0.2}, {'stationId': S227, 'value': 0.0}, {'stationId': S107, 'value': 0.2}, {'stationId': S228, 'value': 0.198}, {'stationId': S104, 'value': 0.2}, {'stationId': S226, 'value': 0.4}, {'stationId': S223, 'value': 0.203}, {'stationId': S224, 'value': 0.0}, {'stationId': S71, 'value': 0.2}, {'stationId': S33, 'value': 0.4}, {'stationId': S77, 'value': 0.2}, {'stationId': S79, 'value': 0.2}, {'stationId': S111, 'value': 0.2}, {'stationId': S112, 'value': 0.2}, {'stationId': S230, 'value': 0.2}] │\n",
            "└──────────────────────────────────────────────────────────────────────────────────────────────────────────────────────────────────────────────────────────────────────────────────────────────────────────────────────────────────────────────────────────────────────────────────────────────────────────────────────────────────────────────────────────────────────────────────────────────────────────────────────────────────────────────────────────────────────────────────────────────────────────────────────────────────────────────────────────────────────────────────────────────────────────────────────────────────────────────────────────────────────────────────────────────────────────────────────────────────────────────────────────────────────────────────────────────────────────────────────────────────────────────────────────────────────────────────────────────────────────────────────────────────────────────────────────────────────────────────────────────────────────────────────────────────────────────────────────────────────────────────────────────────────────────────────────────────────────────────────────────────────────────────────────────────────────────────────────────────────────────────────────────────────────────────────────────────────────────────────────────────────────────────────────────────────────────────────────────────────────────────────────────────────────────────────────────────────────────────────────────────────────────────────────────────────────────────────────────────────────────────────────────────────────────────────────────────────────────────────────────────────────────────────────────────────────────────────────────────────────────────────────────────────────────────────────────────────────────────────────────────────────────────────────────────────────────────────────────────────────────────────────────────────────────────────────────────────────────────────────────────────────────────────────────────────────────────────────────────────────────────────────────────────────────────────────────────────────────────────────────────────────────────────────────────────────────────────────────────────────────────────────────────────┘\n",
            "\n"
          ]
        }
      ]
    },
    {
      "cell_type": "code",
      "source": [
        "# Save the records as separate columns, expanded/unnest from data column\n",
        "query = \"\"\"\n",
        "CREATE OR REPLACE TABLE readings_flat AS\n",
        "SELECT\n",
        "  timestamp,\n",
        "  UNNEST(data).stationId AS station_id,\n",
        "  UNNEST(data).value AS value\n",
        "FROM readings;\n",
        "\"\"\"\n",
        "# Execute the query\n",
        "duckdb.sql(query)\n",
        "duckdb.sql(\"SELECT * FROM readings_flat LIMIT 10\").show()"
      ],
      "metadata": {
        "colab": {
          "base_uri": "https://localhost:8080/"
        },
        "id": "rBUCQo3xBM6a",
        "outputId": "e48152af-3626-494c-8a21-fe37f11f459a"
      },
      "execution_count": 20,
      "outputs": [
        {
          "output_type": "stream",
          "name": "stdout",
          "text": [
            "┌───────────────────────────┬────────────┬────────┐\n",
            "│         timestamp         │ station_id │ value  │\n",
            "│          varchar          │  varchar   │ double │\n",
            "├───────────────────────────┼────────────┼────────┤\n",
            "│ 2025-01-10T23:55:00+08:00 │ S218       │  0.204 │\n",
            "│ 2025-01-10T23:55:00+08:00 │ S219       │  0.402 │\n",
            "│ 2025-01-10T23:55:00+08:00 │ S216       │  0.204 │\n",
            "│ 2025-01-10T23:55:00+08:00 │ S217       │  0.197 │\n",
            "│ 2025-01-10T23:55:00+08:00 │ S214       │  0.394 │\n",
            "│ 2025-01-10T23:55:00+08:00 │ S215       │  0.203 │\n",
            "│ 2025-01-10T23:55:00+08:00 │ S213       │    0.4 │\n",
            "│ 2025-01-10T23:55:00+08:00 │ S81        │    0.4 │\n",
            "│ 2025-01-10T23:55:00+08:00 │ S40        │    0.2 │\n",
            "│ 2025-01-10T23:55:00+08:00 │ S84        │    0.2 │\n",
            "├───────────────────────────┴────────────┴────────┤\n",
            "│ 10 rows                               3 columns │\n",
            "└─────────────────────────────────────────────────┘\n",
            "\n"
          ]
        }
      ]
    },
    {
      "cell_type": "markdown",
      "source": [
        "Download into csv files (optional)"
      ],
      "metadata": {
        "id": "hPqzrL71Akys"
      }
    },
    {
      "cell_type": "code",
      "source": [
        "duckdb.sql(\"COPY readings_flat TO 'readings_flat.csv' (HEADER, DELIMITER ',');\")\n",
        "files.download(\"readings_flat.csv\")"
      ],
      "metadata": {
        "colab": {
          "base_uri": "https://localhost:8080/",
          "height": 17
        },
        "id": "vHecc4RvXivg",
        "outputId": "abe71b54-c017-4838-9cab-dcb501fef420"
      },
      "execution_count": 21,
      "outputs": [
        {
          "output_type": "display_data",
          "data": {
            "text/plain": [
              "<IPython.core.display.Javascript object>"
            ],
            "application/javascript": [
              "\n",
              "    async function download(id, filename, size) {\n",
              "      if (!google.colab.kernel.accessAllowed) {\n",
              "        return;\n",
              "      }\n",
              "      const div = document.createElement('div');\n",
              "      const label = document.createElement('label');\n",
              "      label.textContent = `Downloading \"${filename}\": `;\n",
              "      div.appendChild(label);\n",
              "      const progress = document.createElement('progress');\n",
              "      progress.max = size;\n",
              "      div.appendChild(progress);\n",
              "      document.body.appendChild(div);\n",
              "\n",
              "      const buffers = [];\n",
              "      let downloaded = 0;\n",
              "\n",
              "      const channel = await google.colab.kernel.comms.open(id);\n",
              "      // Send a message to notify the kernel that we're ready.\n",
              "      channel.send({})\n",
              "\n",
              "      for await (const message of channel.messages) {\n",
              "        // Send a message to notify the kernel that we're ready.\n",
              "        channel.send({})\n",
              "        if (message.buffers) {\n",
              "          for (const buffer of message.buffers) {\n",
              "            buffers.push(buffer);\n",
              "            downloaded += buffer.byteLength;\n",
              "            progress.value = downloaded;\n",
              "          }\n",
              "        }\n",
              "      }\n",
              "      const blob = new Blob(buffers, {type: 'application/binary'});\n",
              "      const a = document.createElement('a');\n",
              "      a.href = window.URL.createObjectURL(blob);\n",
              "      a.download = filename;\n",
              "      div.appendChild(a);\n",
              "      a.click();\n",
              "      div.remove();\n",
              "    }\n",
              "  "
            ]
          },
          "metadata": {}
        },
        {
          "output_type": "display_data",
          "data": {
            "text/plain": [
              "<IPython.core.display.Javascript object>"
            ],
            "application/javascript": [
              "download(\"download_69f2be8d-bf1e-43a7-9aa3-05aa0eb74142\", \"readings_flat.csv\", 3620190)"
            ]
          },
          "metadata": {}
        }
      ]
    },
    {
      "cell_type": "code",
      "source": [
        "query = \"\"\"\n",
        "SELECT CAST(ROUND(SUM(value), 0) AS INTEGER) AS total_rainfall\n",
        "FROM readings_flat;\n",
        "\"\"\"\n",
        "duckdb.sql(query).show()\n",
        "result = duckdb.sql(query).fetchall()\n",
        "\n",
        "# Display result in Colab cell\n",
        "print(f\"Total rainfall measured: {result[0][0]}\")"
      ],
      "metadata": {
        "colab": {
          "base_uri": "https://localhost:8080/"
        },
        "id": "x4AEN9wbGnGH",
        "outputId": "c64a5988-3d38-4d64-9ad1-be309efcf635"
      },
      "execution_count": 22,
      "outputs": [
        {
          "output_type": "stream",
          "name": "stdout",
          "text": [
            "┌────────────────┐\n",
            "│ total_rainfall │\n",
            "│     int32      │\n",
            "├────────────────┤\n",
            "│          20718 │\n",
            "└────────────────┘\n",
            "\n",
            "Total rainfall measured: 20718\n"
          ]
        }
      ]
    },
    {
      "cell_type": "code",
      "source": [
        "# Read the existing SQL query\n",
        "file_path = \"sqls/q2.sql\"\n",
        "\n",
        "with open(file_path, \"r\") as f:\n",
        "    sql_query = f.read()\n",
        "\n",
        "print(\"Current Query:\\n\", sql_query)  # Display the current SQL query"
      ],
      "metadata": {
        "colab": {
          "base_uri": "https://localhost:8080/"
        },
        "id": "f6c2DtfsGxoh",
        "outputId": "aeed1fea-eb07-4b53-aa38-43b915c53aff"
      },
      "execution_count": 23,
      "outputs": [
        {
          "output_type": "stream",
          "name": "stdout",
          "text": [
            "Current Query:\n",
            " SELECT COUNT(*) FROM stations;\n"
          ]
        }
      ]
    },
    {
      "cell_type": "code",
      "source": [
        "new_query = \"\"\"\n",
        "SELECT CAST(ROUND(SUM(value), 0) AS INTEGER) AS total_rainfall\n",
        "FROM readings_flat;\n",
        "\"\"\"\n",
        "\n",
        "# Overwrite the SQL file with the new query\n",
        "with open(file_path, \"w\") as f:\n",
        "    f.write(new_query)\n",
        "\n",
        "print(\"Updated q2.sql successfully!\")"
      ],
      "metadata": {
        "colab": {
          "base_uri": "https://localhost:8080/"
        },
        "id": "asiz2j4xG3Vb",
        "outputId": "6d97c128-ef6c-41c4-8ff0-7c5bc6bf1f6c"
      },
      "execution_count": 24,
      "outputs": [
        {
          "output_type": "stream",
          "name": "stdout",
          "text": [
            "Updated q2.sql successfully!\n"
          ]
        }
      ]
    },
    {
      "cell_type": "code",
      "source": [
        "# Run the query from 'sqls/q2.sql'\n",
        "execute_sql_from_file(\"sqls/q2.sql\")"
      ],
      "metadata": {
        "colab": {
          "base_uri": "https://localhost:8080/",
          "height": 81
        },
        "id": "ztYzL_snA2PM",
        "outputId": "f9198ef1-fc97-4ca7-a3cf-0245bde7e721"
      },
      "execution_count": 25,
      "outputs": [
        {
          "output_type": "execute_result",
          "data": {
            "text/plain": [
              "   total_rainfall\n",
              "0           20718"
            ],
            "text/html": [
              "\n",
              "  <div id=\"df-062c2242-dc60-4d75-a922-f0eaca3537a3\" class=\"colab-df-container\">\n",
              "    <div>\n",
              "<style scoped>\n",
              "    .dataframe tbody tr th:only-of-type {\n",
              "        vertical-align: middle;\n",
              "    }\n",
              "\n",
              "    .dataframe tbody tr th {\n",
              "        vertical-align: top;\n",
              "    }\n",
              "\n",
              "    .dataframe thead th {\n",
              "        text-align: right;\n",
              "    }\n",
              "</style>\n",
              "<table border=\"1\" class=\"dataframe\">\n",
              "  <thead>\n",
              "    <tr style=\"text-align: right;\">\n",
              "      <th></th>\n",
              "      <th>total_rainfall</th>\n",
              "    </tr>\n",
              "  </thead>\n",
              "  <tbody>\n",
              "    <tr>\n",
              "      <th>0</th>\n",
              "      <td>20718</td>\n",
              "    </tr>\n",
              "  </tbody>\n",
              "</table>\n",
              "</div>\n",
              "    <div class=\"colab-df-buttons\">\n",
              "\n",
              "  <div class=\"colab-df-container\">\n",
              "    <button class=\"colab-df-convert\" onclick=\"convertToInteractive('df-062c2242-dc60-4d75-a922-f0eaca3537a3')\"\n",
              "            title=\"Convert this dataframe to an interactive table.\"\n",
              "            style=\"display:none;\">\n",
              "\n",
              "  <svg xmlns=\"http://www.w3.org/2000/svg\" height=\"24px\" viewBox=\"0 -960 960 960\">\n",
              "    <path d=\"M120-120v-720h720v720H120Zm60-500h600v-160H180v160Zm220 220h160v-160H400v160Zm0 220h160v-160H400v160ZM180-400h160v-160H180v160Zm440 0h160v-160H620v160ZM180-180h160v-160H180v160Zm440 0h160v-160H620v160Z\"/>\n",
              "  </svg>\n",
              "    </button>\n",
              "\n",
              "  <style>\n",
              "    .colab-df-container {\n",
              "      display:flex;\n",
              "      gap: 12px;\n",
              "    }\n",
              "\n",
              "    .colab-df-convert {\n",
              "      background-color: #E8F0FE;\n",
              "      border: none;\n",
              "      border-radius: 50%;\n",
              "      cursor: pointer;\n",
              "      display: none;\n",
              "      fill: #1967D2;\n",
              "      height: 32px;\n",
              "      padding: 0 0 0 0;\n",
              "      width: 32px;\n",
              "    }\n",
              "\n",
              "    .colab-df-convert:hover {\n",
              "      background-color: #E2EBFA;\n",
              "      box-shadow: 0px 1px 2px rgba(60, 64, 67, 0.3), 0px 1px 3px 1px rgba(60, 64, 67, 0.15);\n",
              "      fill: #174EA6;\n",
              "    }\n",
              "\n",
              "    .colab-df-buttons div {\n",
              "      margin-bottom: 4px;\n",
              "    }\n",
              "\n",
              "    [theme=dark] .colab-df-convert {\n",
              "      background-color: #3B4455;\n",
              "      fill: #D2E3FC;\n",
              "    }\n",
              "\n",
              "    [theme=dark] .colab-df-convert:hover {\n",
              "      background-color: #434B5C;\n",
              "      box-shadow: 0px 1px 3px 1px rgba(0, 0, 0, 0.15);\n",
              "      filter: drop-shadow(0px 1px 2px rgba(0, 0, 0, 0.3));\n",
              "      fill: #FFFFFF;\n",
              "    }\n",
              "  </style>\n",
              "\n",
              "    <script>\n",
              "      const buttonEl =\n",
              "        document.querySelector('#df-062c2242-dc60-4d75-a922-f0eaca3537a3 button.colab-df-convert');\n",
              "      buttonEl.style.display =\n",
              "        google.colab.kernel.accessAllowed ? 'block' : 'none';\n",
              "\n",
              "      async function convertToInteractive(key) {\n",
              "        const element = document.querySelector('#df-062c2242-dc60-4d75-a922-f0eaca3537a3');\n",
              "        const dataTable =\n",
              "          await google.colab.kernel.invokeFunction('convertToInteractive',\n",
              "                                                    [key], {});\n",
              "        if (!dataTable) return;\n",
              "\n",
              "        const docLinkHtml = 'Like what you see? Visit the ' +\n",
              "          '<a target=\"_blank\" href=https://colab.research.google.com/notebooks/data_table.ipynb>data table notebook</a>'\n",
              "          + ' to learn more about interactive tables.';\n",
              "        element.innerHTML = '';\n",
              "        dataTable['output_type'] = 'display_data';\n",
              "        await google.colab.output.renderOutput(dataTable, element);\n",
              "        const docLink = document.createElement('div');\n",
              "        docLink.innerHTML = docLinkHtml;\n",
              "        element.appendChild(docLink);\n",
              "      }\n",
              "    </script>\n",
              "  </div>\n",
              "\n",
              "\n",
              "    </div>\n",
              "  </div>\n"
            ],
            "application/vnd.google.colaboratory.intrinsic+json": {
              "type": "dataframe",
              "summary": "{\n  \"name\": \"execute_sql_from_file(\\\"sqls/q2\",\n  \"rows\": 1,\n  \"fields\": [\n    {\n      \"column\": \"total_rainfall\",\n      \"properties\": {\n        \"dtype\": \"int32\",\n        \"num_unique_values\": 1,\n        \"samples\": [\n          20718\n        ],\n        \"semantic_type\": \"\",\n        \"description\": \"\"\n      }\n    }\n  ]\n}"
            }
          },
          "metadata": {},
          "execution_count": 25
        }
      ]
    },
    {
      "cell_type": "markdown",
      "source": [
        "3.\tWhat is the station_name, day, and value for the station with the highest total rainfall for a day?"
      ],
      "metadata": {
        "id": "Qo7rHainYqDf"
      }
    },
    {
      "cell_type": "code",
      "source": [
        "query = \"\"\"\n",
        "SELECT stations.name, CAST(readings_flat.timestamp AS DATE) AS date, CAST(ROUND(SUM(readings_flat.value), 0) AS INTEGER) AS rainfall\n",
        "FROM stations\n",
        "JOIN readings_flat\n",
        "ON stations.station_id = readings_flat.station_id\n",
        "GROUP BY stations.name, date\n",
        "ORDER BY rainfall DESC\n",
        "LIMIT 1;\n",
        "\"\"\"\n",
        "duckdb.sql(query).show()\n",
        "result = duckdb.sql(query).fetchall()\n",
        "\n",
        "# Display result in Colab cell\n",
        "print(f\"Highest rainfall measured: {result[0][2]}mm at {result[0][0]} on {result[0][1]}\")"
      ],
      "metadata": {
        "colab": {
          "base_uri": "https://localhost:8080/"
        },
        "id": "xP19BeJVYsyR",
        "outputId": "53a53917-8f8e-40fa-dc11-de024bad96fd"
      },
      "execution_count": 26,
      "outputs": [
        {
          "output_type": "stream",
          "name": "stdout",
          "text": [
            "┌────────────────────┬────────────┬──────────┐\n",
            "│        name        │    date    │ rainfall │\n",
            "│      varchar       │    date    │  int32   │\n",
            "├────────────────────┼────────────┼──────────┤\n",
            "│ Pasir Ris Drive 12 │ 2025-01-10 │      145 │\n",
            "└────────────────────┴────────────┴──────────┘\n",
            "\n",
            "Highest rainfall measured: 145mm at Pasir Ris Drive 12 on 2025-01-10\n"
          ]
        }
      ]
    },
    {
      "cell_type": "code",
      "source": [
        "# Read the existing SQL query\n",
        "file_path = \"sqls/q3.sql\"\n",
        "\n",
        "with open(file_path, \"r\") as f:\n",
        "    sql_query = f.read()\n",
        "\n",
        "print(\"Current Query:\\n\", sql_query)  # Display the current SQL query"
      ],
      "metadata": {
        "colab": {
          "base_uri": "https://localhost:8080/"
        },
        "id": "X-l5YX8nnBwR",
        "outputId": "9d486833-f780-4462-8082-dfb67bfe3e94"
      },
      "execution_count": 27,
      "outputs": [
        {
          "output_type": "stream",
          "name": "stdout",
          "text": [
            "Current Query:\n",
            " SELECT COUNT(*) FROM readings;\n"
          ]
        }
      ]
    },
    {
      "cell_type": "code",
      "source": [
        "new_query = \"\"\"\n",
        "SELECT stations.name, CAST(readings_flat.timestamp AS DATE) AS date, CAST(ROUND(SUM(readings_flat.value), 0) AS INTEGER) AS rainfall\n",
        "FROM stations\n",
        "JOIN readings_flat\n",
        "ON stations.station_id = readings_flat.station_id\n",
        "GROUP BY stations.name, date\n",
        "ORDER BY rainfall DESC\n",
        "LIMIT 1;\n",
        "\"\"\"\n",
        "\n",
        "# Overwrite the SQL file with the new query\n",
        "with open(file_path, \"w\") as f:\n",
        "    f.write(new_query)\n",
        "\n",
        "print(\"Updated q3.sql successfully!\")"
      ],
      "metadata": {
        "colab": {
          "base_uri": "https://localhost:8080/"
        },
        "id": "GraoeT8vnp5Q",
        "outputId": "765f6d84-42e0-4716-aef4-f5f2f18df40e"
      },
      "execution_count": 28,
      "outputs": [
        {
          "output_type": "stream",
          "name": "stdout",
          "text": [
            "Updated q3.sql successfully!\n"
          ]
        }
      ]
    },
    {
      "cell_type": "code",
      "source": [
        "# Run the query from 'sqls/q3.sql'\n",
        "execute_sql_from_file(\"sqls/q3.sql\")"
      ],
      "metadata": {
        "colab": {
          "base_uri": "https://localhost:8080/",
          "height": 81
        },
        "id": "R37PR11Onyvo",
        "outputId": "ac003854-975d-42c1-d8c6-37ac7157d666"
      },
      "execution_count": 29,
      "outputs": [
        {
          "output_type": "execute_result",
          "data": {
            "text/plain": [
              "                 name       date  rainfall\n",
              "0  Pasir Ris Drive 12 2025-01-10       145"
            ],
            "text/html": [
              "\n",
              "  <div id=\"df-c218428e-c9ae-4631-a178-5255b9159757\" class=\"colab-df-container\">\n",
              "    <div>\n",
              "<style scoped>\n",
              "    .dataframe tbody tr th:only-of-type {\n",
              "        vertical-align: middle;\n",
              "    }\n",
              "\n",
              "    .dataframe tbody tr th {\n",
              "        vertical-align: top;\n",
              "    }\n",
              "\n",
              "    .dataframe thead th {\n",
              "        text-align: right;\n",
              "    }\n",
              "</style>\n",
              "<table border=\"1\" class=\"dataframe\">\n",
              "  <thead>\n",
              "    <tr style=\"text-align: right;\">\n",
              "      <th></th>\n",
              "      <th>name</th>\n",
              "      <th>date</th>\n",
              "      <th>rainfall</th>\n",
              "    </tr>\n",
              "  </thead>\n",
              "  <tbody>\n",
              "    <tr>\n",
              "      <th>0</th>\n",
              "      <td>Pasir Ris Drive 12</td>\n",
              "      <td>2025-01-10</td>\n",
              "      <td>145</td>\n",
              "    </tr>\n",
              "  </tbody>\n",
              "</table>\n",
              "</div>\n",
              "    <div class=\"colab-df-buttons\">\n",
              "\n",
              "  <div class=\"colab-df-container\">\n",
              "    <button class=\"colab-df-convert\" onclick=\"convertToInteractive('df-c218428e-c9ae-4631-a178-5255b9159757')\"\n",
              "            title=\"Convert this dataframe to an interactive table.\"\n",
              "            style=\"display:none;\">\n",
              "\n",
              "  <svg xmlns=\"http://www.w3.org/2000/svg\" height=\"24px\" viewBox=\"0 -960 960 960\">\n",
              "    <path d=\"M120-120v-720h720v720H120Zm60-500h600v-160H180v160Zm220 220h160v-160H400v160Zm0 220h160v-160H400v160ZM180-400h160v-160H180v160Zm440 0h160v-160H620v160ZM180-180h160v-160H180v160Zm440 0h160v-160H620v160Z\"/>\n",
              "  </svg>\n",
              "    </button>\n",
              "\n",
              "  <style>\n",
              "    .colab-df-container {\n",
              "      display:flex;\n",
              "      gap: 12px;\n",
              "    }\n",
              "\n",
              "    .colab-df-convert {\n",
              "      background-color: #E8F0FE;\n",
              "      border: none;\n",
              "      border-radius: 50%;\n",
              "      cursor: pointer;\n",
              "      display: none;\n",
              "      fill: #1967D2;\n",
              "      height: 32px;\n",
              "      padding: 0 0 0 0;\n",
              "      width: 32px;\n",
              "    }\n",
              "\n",
              "    .colab-df-convert:hover {\n",
              "      background-color: #E2EBFA;\n",
              "      box-shadow: 0px 1px 2px rgba(60, 64, 67, 0.3), 0px 1px 3px 1px rgba(60, 64, 67, 0.15);\n",
              "      fill: #174EA6;\n",
              "    }\n",
              "\n",
              "    .colab-df-buttons div {\n",
              "      margin-bottom: 4px;\n",
              "    }\n",
              "\n",
              "    [theme=dark] .colab-df-convert {\n",
              "      background-color: #3B4455;\n",
              "      fill: #D2E3FC;\n",
              "    }\n",
              "\n",
              "    [theme=dark] .colab-df-convert:hover {\n",
              "      background-color: #434B5C;\n",
              "      box-shadow: 0px 1px 3px 1px rgba(0, 0, 0, 0.15);\n",
              "      filter: drop-shadow(0px 1px 2px rgba(0, 0, 0, 0.3));\n",
              "      fill: #FFFFFF;\n",
              "    }\n",
              "  </style>\n",
              "\n",
              "    <script>\n",
              "      const buttonEl =\n",
              "        document.querySelector('#df-c218428e-c9ae-4631-a178-5255b9159757 button.colab-df-convert');\n",
              "      buttonEl.style.display =\n",
              "        google.colab.kernel.accessAllowed ? 'block' : 'none';\n",
              "\n",
              "      async function convertToInteractive(key) {\n",
              "        const element = document.querySelector('#df-c218428e-c9ae-4631-a178-5255b9159757');\n",
              "        const dataTable =\n",
              "          await google.colab.kernel.invokeFunction('convertToInteractive',\n",
              "                                                    [key], {});\n",
              "        if (!dataTable) return;\n",
              "\n",
              "        const docLinkHtml = 'Like what you see? Visit the ' +\n",
              "          '<a target=\"_blank\" href=https://colab.research.google.com/notebooks/data_table.ipynb>data table notebook</a>'\n",
              "          + ' to learn more about interactive tables.';\n",
              "        element.innerHTML = '';\n",
              "        dataTable['output_type'] = 'display_data';\n",
              "        await google.colab.output.renderOutput(dataTable, element);\n",
              "        const docLink = document.createElement('div');\n",
              "        docLink.innerHTML = docLinkHtml;\n",
              "        element.appendChild(docLink);\n",
              "      }\n",
              "    </script>\n",
              "  </div>\n",
              "\n",
              "\n",
              "    </div>\n",
              "  </div>\n"
            ],
            "application/vnd.google.colaboratory.intrinsic+json": {
              "type": "dataframe",
              "summary": "{\n  \"name\": \"execute_sql_from_file(\\\"sqls/q3\",\n  \"rows\": 1,\n  \"fields\": [\n    {\n      \"column\": \"name\",\n      \"properties\": {\n        \"dtype\": \"string\",\n        \"num_unique_values\": 1,\n        \"samples\": [\n          \"Pasir Ris Drive 12\"\n        ],\n        \"semantic_type\": \"\",\n        \"description\": \"\"\n      }\n    },\n    {\n      \"column\": \"date\",\n      \"properties\": {\n        \"dtype\": \"date\",\n        \"min\": \"2025-01-10 00:00:00\",\n        \"max\": \"2025-01-10 00:00:00\",\n        \"num_unique_values\": 1,\n        \"samples\": [\n          \"2025-01-10 00:00:00\"\n        ],\n        \"semantic_type\": \"\",\n        \"description\": \"\"\n      }\n    },\n    {\n      \"column\": \"rainfall\",\n      \"properties\": {\n        \"dtype\": \"int32\",\n        \"num_unique_values\": 1,\n        \"samples\": [\n          145\n        ],\n        \"semantic_type\": \"\",\n        \"description\": \"\"\n      }\n    }\n  ]\n}"
            }
          },
          "metadata": {},
          "execution_count": 29
        }
      ]
    },
    {
      "cell_type": "markdown",
      "source": [
        "4.\tWhat is the minimum, maximum, and average daily rainfall for Pasir Ris Drive 12?"
      ],
      "metadata": {
        "id": "wr33ZH6MZQc9"
      }
    },
    {
      "cell_type": "code",
      "source": [
        "query = \"\"\"\n",
        "WITH daily_rainfall AS (\n",
        "    SELECT\n",
        "        stations.name,\n",
        "        CAST(readings_flat.timestamp AS DATE) AS day,\n",
        "        SUM(readings_flat.value) AS daily_rainfall\n",
        "    FROM readings_flat\n",
        "    JOIN stations\n",
        "        ON stations.station_id = readings_flat.station_id\n",
        "    WHERE stations.name = 'Pasir Ris Drive 12'\n",
        "      AND readings_flat.value > 0\n",
        "    GROUP BY stations.name, day\n",
        ")\n",
        "\n",
        "SELECT\n",
        "    CAST(ROUND(MIN(daily_rainfall), 0) AS INTEGER) AS min_rainfall,\n",
        "    CAST(ROUND(MAX(daily_rainfall), 0) AS INTEGER) AS max_rainfall,\n",
        "    CAST(ROUND(AVG(daily_rainfall), 0) AS INTEGER) AS avg_rainfall\n",
        "FROM daily_rainfall\n",
        "\"\"\"\n",
        "duckdb.sql(query).show()\n",
        "result = duckdb.sql(query).fetchall()\n",
        "\n",
        "# Display result in Colab cell\n",
        "print(f\"Daily rainfall measured has average of {result[0][2]}mm\")"
      ],
      "metadata": {
        "colab": {
          "base_uri": "https://localhost:8080/"
        },
        "id": "pvKSEloekb1Y",
        "outputId": "4991993f-41c9-43cc-ee47-fc0c4c3b2d26"
      },
      "execution_count": 30,
      "outputs": [
        {
          "output_type": "stream",
          "name": "stdout",
          "text": [
            "┌──────────────┬──────────────┬──────────────┐\n",
            "│ min_rainfall │ max_rainfall │ avg_rainfall │\n",
            "│    int32     │    int32     │    int32     │\n",
            "├──────────────┼──────────────┼──────────────┤\n",
            "│            9 │          145 │           68 │\n",
            "└──────────────┴──────────────┴──────────────┘\n",
            "\n",
            "Daily rainfall measured has average of 68mm\n"
          ]
        }
      ]
    },
    {
      "cell_type": "code",
      "source": [
        "# Read the existing SQL query\n",
        "file_path = \"sqls/q4.sql\"\n",
        "\n",
        "with open(file_path, \"r\") as f:\n",
        "    sql_query = f.read()\n",
        "\n",
        "print(\"Current Query:\\n\", sql_query)  # Display the current SQL query"
      ],
      "metadata": {
        "colab": {
          "base_uri": "https://localhost:8080/"
        },
        "id": "jhR7xaAqqd7g",
        "outputId": "2f2f6953-7311-4b5d-a406-99bc2416df0e"
      },
      "execution_count": 31,
      "outputs": [
        {
          "output_type": "stream",
          "name": "stdout",
          "text": [
            "Current Query:\n",
            " SELECT COUNT(*) FROM stations;\n"
          ]
        }
      ]
    },
    {
      "cell_type": "code",
      "source": [
        "new_query = \"\"\"\n",
        "WITH daily_rainfall AS (\n",
        "    SELECT\n",
        "        stations.name,\n",
        "        CAST(readings_flat.timestamp AS DATE) AS day,\n",
        "        SUM(readings_flat.value) AS daily_rainfall\n",
        "    FROM readings_flat\n",
        "    JOIN stations\n",
        "        ON stations.station_id = readings_flat.station_id\n",
        "    WHERE stations.name = 'Pasir Ris Drive 12'\n",
        "      AND readings_flat.value > 0\n",
        "    GROUP BY stations.name, day\n",
        ")\n",
        "\n",
        "SELECT\n",
        "    CAST(ROUND(MIN(daily_rainfall), 0) AS INTEGER) AS min_rainfall,\n",
        "    CAST(ROUND(MAX(daily_rainfall), 0) AS INTEGER) AS max_rainfall,\n",
        "    CAST(ROUND(AVG(daily_rainfall), 0) AS INTEGER) AS avg_rainfall\n",
        "FROM daily_rainfall;\n",
        "\"\"\"\n",
        "\n",
        "# Overwrite the SQL file with the new query\n",
        "with open(file_path, \"w\") as f:\n",
        "    f.write(new_query)\n",
        "\n",
        "print(\"Updated q4.sql successfully!\")"
      ],
      "metadata": {
        "colab": {
          "base_uri": "https://localhost:8080/"
        },
        "id": "hN7_ZQ2XqksE",
        "outputId": "1dc3c95f-5784-4049-8e76-5e94c4ca3516"
      },
      "execution_count": 32,
      "outputs": [
        {
          "output_type": "stream",
          "name": "stdout",
          "text": [
            "Updated q4.sql successfully!\n"
          ]
        }
      ]
    },
    {
      "cell_type": "code",
      "source": [
        "# Run the query from 'sqls/q4.sql'\n",
        "execute_sql_from_file(\"sqls/q4.sql\")"
      ],
      "metadata": {
        "colab": {
          "base_uri": "https://localhost:8080/",
          "height": 81
        },
        "id": "myNgQbIrqrbL",
        "outputId": "f13078b0-45ec-423d-fb7e-22a35d2a1495"
      },
      "execution_count": 33,
      "outputs": [
        {
          "output_type": "execute_result",
          "data": {
            "text/plain": [
              "   min_rainfall  max_rainfall  avg_rainfall\n",
              "0             9           145            68"
            ],
            "text/html": [
              "\n",
              "  <div id=\"df-e7e5b87e-50cd-4514-b3af-23b3dfadc7fe\" class=\"colab-df-container\">\n",
              "    <div>\n",
              "<style scoped>\n",
              "    .dataframe tbody tr th:only-of-type {\n",
              "        vertical-align: middle;\n",
              "    }\n",
              "\n",
              "    .dataframe tbody tr th {\n",
              "        vertical-align: top;\n",
              "    }\n",
              "\n",
              "    .dataframe thead th {\n",
              "        text-align: right;\n",
              "    }\n",
              "</style>\n",
              "<table border=\"1\" class=\"dataframe\">\n",
              "  <thead>\n",
              "    <tr style=\"text-align: right;\">\n",
              "      <th></th>\n",
              "      <th>min_rainfall</th>\n",
              "      <th>max_rainfall</th>\n",
              "      <th>avg_rainfall</th>\n",
              "    </tr>\n",
              "  </thead>\n",
              "  <tbody>\n",
              "    <tr>\n",
              "      <th>0</th>\n",
              "      <td>9</td>\n",
              "      <td>145</td>\n",
              "      <td>68</td>\n",
              "    </tr>\n",
              "  </tbody>\n",
              "</table>\n",
              "</div>\n",
              "    <div class=\"colab-df-buttons\">\n",
              "\n",
              "  <div class=\"colab-df-container\">\n",
              "    <button class=\"colab-df-convert\" onclick=\"convertToInteractive('df-e7e5b87e-50cd-4514-b3af-23b3dfadc7fe')\"\n",
              "            title=\"Convert this dataframe to an interactive table.\"\n",
              "            style=\"display:none;\">\n",
              "\n",
              "  <svg xmlns=\"http://www.w3.org/2000/svg\" height=\"24px\" viewBox=\"0 -960 960 960\">\n",
              "    <path d=\"M120-120v-720h720v720H120Zm60-500h600v-160H180v160Zm220 220h160v-160H400v160Zm0 220h160v-160H400v160ZM180-400h160v-160H180v160Zm440 0h160v-160H620v160ZM180-180h160v-160H180v160Zm440 0h160v-160H620v160Z\"/>\n",
              "  </svg>\n",
              "    </button>\n",
              "\n",
              "  <style>\n",
              "    .colab-df-container {\n",
              "      display:flex;\n",
              "      gap: 12px;\n",
              "    }\n",
              "\n",
              "    .colab-df-convert {\n",
              "      background-color: #E8F0FE;\n",
              "      border: none;\n",
              "      border-radius: 50%;\n",
              "      cursor: pointer;\n",
              "      display: none;\n",
              "      fill: #1967D2;\n",
              "      height: 32px;\n",
              "      padding: 0 0 0 0;\n",
              "      width: 32px;\n",
              "    }\n",
              "\n",
              "    .colab-df-convert:hover {\n",
              "      background-color: #E2EBFA;\n",
              "      box-shadow: 0px 1px 2px rgba(60, 64, 67, 0.3), 0px 1px 3px 1px rgba(60, 64, 67, 0.15);\n",
              "      fill: #174EA6;\n",
              "    }\n",
              "\n",
              "    .colab-df-buttons div {\n",
              "      margin-bottom: 4px;\n",
              "    }\n",
              "\n",
              "    [theme=dark] .colab-df-convert {\n",
              "      background-color: #3B4455;\n",
              "      fill: #D2E3FC;\n",
              "    }\n",
              "\n",
              "    [theme=dark] .colab-df-convert:hover {\n",
              "      background-color: #434B5C;\n",
              "      box-shadow: 0px 1px 3px 1px rgba(0, 0, 0, 0.15);\n",
              "      filter: drop-shadow(0px 1px 2px rgba(0, 0, 0, 0.3));\n",
              "      fill: #FFFFFF;\n",
              "    }\n",
              "  </style>\n",
              "\n",
              "    <script>\n",
              "      const buttonEl =\n",
              "        document.querySelector('#df-e7e5b87e-50cd-4514-b3af-23b3dfadc7fe button.colab-df-convert');\n",
              "      buttonEl.style.display =\n",
              "        google.colab.kernel.accessAllowed ? 'block' : 'none';\n",
              "\n",
              "      async function convertToInteractive(key) {\n",
              "        const element = document.querySelector('#df-e7e5b87e-50cd-4514-b3af-23b3dfadc7fe');\n",
              "        const dataTable =\n",
              "          await google.colab.kernel.invokeFunction('convertToInteractive',\n",
              "                                                    [key], {});\n",
              "        if (!dataTable) return;\n",
              "\n",
              "        const docLinkHtml = 'Like what you see? Visit the ' +\n",
              "          '<a target=\"_blank\" href=https://colab.research.google.com/notebooks/data_table.ipynb>data table notebook</a>'\n",
              "          + ' to learn more about interactive tables.';\n",
              "        element.innerHTML = '';\n",
              "        dataTable['output_type'] = 'display_data';\n",
              "        await google.colab.output.renderOutput(dataTable, element);\n",
              "        const docLink = document.createElement('div');\n",
              "        docLink.innerHTML = docLinkHtml;\n",
              "        element.appendChild(docLink);\n",
              "      }\n",
              "    </script>\n",
              "  </div>\n",
              "\n",
              "\n",
              "    </div>\n",
              "  </div>\n"
            ],
            "application/vnd.google.colaboratory.intrinsic+json": {
              "type": "dataframe",
              "summary": "{\n  \"name\": \"execute_sql_from_file(\\\"sqls/q4\",\n  \"rows\": 1,\n  \"fields\": [\n    {\n      \"column\": \"min_rainfall\",\n      \"properties\": {\n        \"dtype\": \"int32\",\n        \"num_unique_values\": 1,\n        \"samples\": [\n          9\n        ],\n        \"semantic_type\": \"\",\n        \"description\": \"\"\n      }\n    },\n    {\n      \"column\": \"max_rainfall\",\n      \"properties\": {\n        \"dtype\": \"int32\",\n        \"num_unique_values\": 1,\n        \"samples\": [\n          145\n        ],\n        \"semantic_type\": \"\",\n        \"description\": \"\"\n      }\n    },\n    {\n      \"column\": \"avg_rainfall\",\n      \"properties\": {\n        \"dtype\": \"int32\",\n        \"num_unique_values\": 1,\n        \"samples\": [\n          68\n        ],\n        \"semantic_type\": \"\",\n        \"description\": \"\"\n      }\n    }\n  ]\n}"
            }
          },
          "metadata": {},
          "execution_count": 33
        }
      ]
    }
  ]
}